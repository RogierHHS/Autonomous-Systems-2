{
 "cells": [
  {
   "cell_type": "markdown",
   "id": "ab138be1",
   "metadata": {},
   "source": [
    "<div style=\"background-color:LightBlue; text-align:center; padding:20px;\">\n",
    "    <h2 style=\"color:black; font-family: Verdana, sans-serif;\"><strong>Reinforcement Learning Project - ViZ Doom</strong></h2>\n",
    "    <p style=\"font-size: 14px; color: black; font-family: Verdana, sans-serif;\"> \n",
    "        <table style=\"margin: auto; border-collapse: collapse; color: black;\">\n",
    "            <tr>\n",
    "                <th style=\"border: 0;\">Names</th>\n",
    "                <th style=\"border: 0;\">GitHub Username</th>\n",
    "            </tr>\n",
    "            <tr>\n",
    "                <td style=\"border: 0;\">Rogier Gernaat</td>\n",
    "                <td style=\"border: 0;\">RogierHHS</td>\n",
    "            </tr>\n",
    "            <tr>\n",
    "                <td style=\"border: 0;\">Daan Eising</td>\n",
    "                <td style=\"border: 0;\">DaanEising</td>\n",
    "            </tr>\n",
    "            <tr>\n",
    "                <td style=\"border: 0;\">Julia Boschman</td>\n",
    "                <td style=\"border: 0;\">JuliaBoschman</td>\n",
    "            </tr>\n",
    "            <tr>\n",
    "                <td style=\"border: 0;\">Jort Kankerhoek</td>\n",
    "                <td style=\"border: 0;\">Homoboi</td>\n",
    "            </tr>\n",
    "        </table>\n",
    "    </p>\n",
    "</div>\n",
    "\n",
    "<div style=\"display: flex; justify-content: center; align-items: center; margin-top: 10px;\">\n",
    "    <img src=\"Doomski.png/\" alt=\"Doomski.png\" style=\"width: 1000px; height: auto;\">\n",
    "</div>\n"
   ]
  },
  {
   "cell_type": "markdown",
   "id": "576e3777",
   "metadata": {},
   "source": [
    "- ***Docent***: Vikram Radhakrishnan\n",
    "- ***Datum***: 08-04-2025"
   ]
  },
  {
   "cell_type": "markdown",
   "id": "8e459bee",
   "metadata": {},
   "source": [
    "\n",
    "---\n",
    "<div style=\"background-color:LightBlue; text-align:center; vertical-align:middle; padding:50px 0; margin-top:5px; margin-bottom:5px\">\n",
    "    <h2 id=\"eda-title\" style=\"color:black; font-family: Verdana, sans-serif; font-size: 25px;\"><strong> Inhoudsopgave </strong></h2>\n",
    "</div>\n",
    "<ul style=\"padding: 0; list-style: none;\">\n",
    "    <li style=\"text-align: center;\"><a href=\"#1.0\">Hoofdstuk 1: Het Project (Use Case)</a></li>\n",
    "    <li style=\"text-align: center;\"><a href=\"#2.0\">Hoofdstuk 2: Ontwerp en Implementatie</a></li>\n",
    "    <li style=\"text-align: center;\"><a href=\"#3.0\">Hoofdstuk 3: Valideer en Vergelijk</a></li>\n",
    "    <li style=\"text-align: center;\"><a href=\"#4.0\">Hoofdstuk 4: Beschrijf je Werk</a></li>\n",
    "    -\n",
    "    <li style=\"text-align: center;\"><a href=\"#5.0\">Literatuurlijst</a></li>\n",
    "</ul>\n"
   ]
  },
  {
   "cell_type": "markdown",
   "id": "1364cbba",
   "metadata": {},
   "source": [
    "\n",
    "---\n",
    "<div style=\"background-color:LightBlue; text-align:center; vertical-align:middle; padding:50px 0; margin-top:5px; margin-bottom:5px\">\n",
    "    <h2 id=\"eda-title\" style=\"color:black; font-family: Verdana, sans-serif; font-size: 25px;\"><strong> Hoofdstuk 1: Het project (Use Case) </strong></h2>\n",
    "</div>\n",
    "\n",
    "### Context en Doel\n",
    "Dit project richt zich op het ontwikkelen van een Reinforcement Learning (RL) model binnen de VizDoom-omgeving. Het doel is om een agent te trainen die efficiënt leert navigeren en gevechten aan te gaan in de Doom-omgeving.\n",
    "\n",
    "### Use Case\n",
    "VizDoom biedt een uitdagende omgeving voor visuele leermodellen, omdat de agent gebruik maakt van visuele input om beslissingen te nemen. RL is geschikt omdat het leert door interactie met de omgeving in plaats van statische gegevens.\n",
    "\n",
    "### Probleemstelling\n",
    "Hoe kunnen we een RL-agent trainen om optimaal te presteren in een complexe visuele omgeving zoals VizDoom?\n"
   ]
  },
  {
   "cell_type": "markdown",
   "id": "beb7bd73",
   "metadata": {},
   "source": [
    "\n",
    "---\n",
    "<div style=\"background-color:LightBlue; text-align:center; vertical-align:middle; padding:50px 0; margin-top:5px; margin-bottom:5px\">\n",
    "    <h2 id=\"eda-title\" style=\"color:black; font-family: Verdana, sans-serif; font-size: 25px;\"><strong> Hoofdstuk 2: Ontwerp en Implementatie </strong></h2>\n",
    "</div>"
   ]
  },
  {
   "cell_type": "markdown",
   "id": "8be485d5",
   "metadata": {},
   "source": [
    "VizDoom inladen"
   ]
  },
  {
   "cell_type": "code",
   "execution_count": 1,
   "id": "c660f9aa",
   "metadata": {},
   "outputs": [
    {
     "name": "stdout",
     "output_type": "stream",
     "text": [
      "Collecting vizdoom\n",
      "  Downloading vizdoom-1.2.4-cp310-cp310-win_amd64.whl (15.5 MB)\n",
      "     --------------------------------------- 15.5/15.5 MB 12.3 MB/s eta 0:00:00\n",
      "Requirement already satisfied: numpy in c:\\users\\rogie\\onedrive\\documenten\\analconda\\lib\\site-packages (from vizdoom) (1.23.5)\n",
      "Collecting gymnasium>=0.28.0\n",
      "  Using cached gymnasium-1.1.1-py3-none-any.whl (965 kB)\n",
      "Collecting pygame>=2.1.3\n",
      "  Using cached pygame-2.6.1-cp310-cp310-win_amd64.whl (10.6 MB)\n",
      "Requirement already satisfied: cloudpickle>=1.2.0 in c:\\users\\rogie\\onedrive\\documenten\\analconda\\lib\\site-packages (from gymnasium>=0.28.0->vizdoom) (2.0.0)\n",
      "Collecting farama-notifications>=0.0.1\n",
      "  Using cached Farama_Notifications-0.0.4-py3-none-any.whl (2.5 kB)\n",
      "Requirement already satisfied: typing-extensions>=4.3.0 in c:\\users\\rogie\\onedrive\\documenten\\analconda\\lib\\site-packages (from gymnasium>=0.28.0->vizdoom) (4.4.0)\n",
      "Installing collected packages: farama-notifications, pygame, gymnasium, vizdoom\n",
      "Successfully installed farama-notifications-0.0.4 gymnasium-1.1.1 pygame-2.6.1 vizdoom-1.2.4\n",
      "Note: you may need to restart the kernel to use updated packages.\n"
     ]
    }
   ],
   "source": [
    "!pip install vizdoom"
   ]
  },
  {
   "cell_type": "markdown",
   "id": "0d52bc60",
   "metadata": {},
   "source": []
  },
  {
   "cell_type": "code",
   "execution_count": 2,
   "id": "ff34c6e1",
   "metadata": {},
   "outputs": [
    {
     "name": "stderr",
     "output_type": "stream",
     "text": [
      "The system cannot find the path specified.\n",
      "Cloning into 'ViZDoom'...\n",
      "Updating files:  19% (398/2057)\n",
      "Updating files:  20% (412/2057)\n",
      "Updating files:  21% (432/2057)\n",
      "Updating files:  22% (453/2057)\n",
      "Updating files:  23% (474/2057)\n",
      "Updating files:  24% (494/2057)\n",
      "Updating files:  25% (515/2057)\n",
      "Updating files:  26% (535/2057)\n",
      "Updating files:  27% (556/2057)\n",
      "Updating files:  28% (576/2057)\n",
      "Updating files:  29% (597/2057)\n",
      "Updating files:  30% (618/2057)\n",
      "Updating files:  31% (638/2057)\n",
      "Updating files:  32% (659/2057)\n",
      "Updating files:  33% (679/2057)\n",
      "Updating files:  34% (700/2057)\n",
      "Updating files:  35% (720/2057)\n",
      "Updating files:  36% (741/2057)\n",
      "Updating files:  37% (762/2057)\n",
      "Updating files:  38% (782/2057)\n",
      "Updating files:  39% (803/2057)\n",
      "Updating files:  40% (823/2057)\n",
      "Updating files:  41% (844/2057)\n",
      "Updating files:  42% (864/2057)\n",
      "Updating files:  43% (885/2057)\n",
      "Updating files:  44% (906/2057)\n",
      "Updating files:  45% (926/2057)\n",
      "Updating files:  46% (947/2057)\n",
      "Updating files:  47% (967/2057)\n",
      "Updating files:  48% (988/2057)\n",
      "Updating files:  49% (1008/2057)\n",
      "Updating files:  50% (1029/2057)\n",
      "Updating files:  51% (1050/2057)\n",
      "Updating files:  52% (1070/2057)\n",
      "Updating files:  53% (1091/2057)\n",
      "Updating files:  53% (1107/2057)\n",
      "Updating files:  54% (1111/2057)\n",
      "Updating files:  55% (1132/2057)\n",
      "Updating files:  56% (1152/2057)\n",
      "Updating files:  57% (1173/2057)\n",
      "Updating files:  58% (1194/2057)\n",
      "Updating files:  59% (1214/2057)\n",
      "Updating files:  60% (1235/2057)\n",
      "Updating files:  61% (1255/2057)\n",
      "Updating files:  62% (1276/2057)\n",
      "Updating files:  63% (1296/2057)\n",
      "Updating files:  64% (1317/2057)\n",
      "Updating files:  65% (1338/2057)\n",
      "Updating files:  66% (1358/2057)\n",
      "Updating files:  67% (1379/2057)\n",
      "Updating files:  68% (1399/2057)\n",
      "Updating files:  69% (1420/2057)\n",
      "Updating files:  70% (1440/2057)\n",
      "Updating files:  71% (1461/2057)\n",
      "Updating files:  72% (1482/2057)\n",
      "Updating files:  73% (1502/2057)\n",
      "Updating files:  74% (1523/2057)\n",
      "Updating files:  75% (1543/2057)\n",
      "Updating files:  76% (1564/2057)\n",
      "Updating files:  77% (1584/2057)\n",
      "Updating files:  78% (1605/2057)\n",
      "Updating files:  78% (1613/2057)\n",
      "Updating files:  79% (1626/2057)\n",
      "Updating files:  80% (1646/2057)\n",
      "Updating files:  81% (1667/2057)\n",
      "Updating files:  82% (1687/2057)\n",
      "Updating files:  83% (1708/2057)\n",
      "Updating files:  84% (1728/2057)\n",
      "Updating files:  85% (1749/2057)\n",
      "Updating files:  86% (1770/2057)\n",
      "Updating files:  87% (1790/2057)\n",
      "Updating files:  88% (1811/2057)\n",
      "Updating files:  89% (1831/2057)\n",
      "Updating files:  90% (1852/2057)\n",
      "Updating files:  91% (1872/2057)\n",
      "Updating files:  92% (1893/2057)\n",
      "Updating files:  93% (1914/2057)\n",
      "Updating files:  94% (1934/2057)\n",
      "Updating files:  95% (1955/2057)\n",
      "Updating files:  96% (1975/2057)\n",
      "Updating files:  97% (1996/2057)\n",
      "Updating files:  98% (2016/2057)\n",
      "Updating files:  99% (2037/2057)\n",
      "Updating files: 100% (2057/2057)\n",
      "Updating files: 100% (2057/2057), done.\n"
     ]
    }
   ],
   "source": [
    "!cd github & git clone https://github.com/mwydmuch/ViZDoom.git"
   ]
  },
  {
   "cell_type": "code",
   "execution_count": 2,
   "id": "0e7ad9d9",
   "metadata": {},
   "outputs": [],
   "source": [
    "from vizdoom import *\n",
    "import random\n",
    "import time"
   ]
  },
  {
   "cell_type": "code",
   "execution_count": null,
   "id": "052d5376",
   "metadata": {},
   "outputs": [],
   "source": []
  },
  {
   "cell_type": "code",
   "execution_count": 11,
   "id": "a07d8bdf",
   "metadata": {},
   "outputs": [
    {
     "name": "stdout",
     "output_type": "stream",
     "text": [
      "Score: 95.0\n"
     ]
    }
   ],
   "source": [
    "from vizdoom import DoomGame, Mode\n",
    "\n",
    "game = DoomGame()\n",
    "game.load_config(\"ViZDoom/scenarios/basic.cfg\")  # laadt de basisconfiguratie incl. basic.wad\n",
    "game.set_window_visible(True)           # optioneel: render de gamewindow\n",
    "game.init()\n",
    "\n",
    "actions = [[1,0,0],  # naar links\n",
    "           [0,1,0],  # naar rechts\n",
    "           [0,0,1]]  # schieten\n",
    "\n",
    "# Uitvoeren van 1 episode met random acties\n",
    "game.new_episode()\n",
    "while not game.is_episode_finished():\n",
    "    state = game.get_state()              # huidige toestand (beeld & variabelen)\n",
    "    reward = game.make_action(random.choice(actions))\n",
    "    # ... (hier kun je bijv. je RL-model aansturen i.p.v. random)\n",
    "score = game.get_total_reward()\n",
    "print(\"Score:\", score)\n",
    "game.close()\n"
   ]
  },
  {
   "cell_type": "markdown",
   "id": "6df3078c",
   "metadata": {},
   "source": [
    "\n",
    "---\n",
    "<div style=\"background-color:LightBlue; text-align:center; vertical-align:middle; padding:50px 0; margin-top:5px; margin-bottom:5px\">\n",
    "    <h2 id=\"eda-title\" style=\"color:black; font-family: Verdana, sans-serif; font-size: 25px;\"><strong> Hoofdstuk 3: Valideer en Vergelijk </strong></h2>\n",
    "</div>"
   ]
  },
  {
   "cell_type": "markdown",
   "id": "13804ddc",
   "metadata": {},
   "source": [
    "\n",
    "---\n",
    "<div style=\"background-color:LightBlue; text-align:center; vertical-align:middle; padding:50px 0; margin-top:5px; margin-bottom:5px\">\n",
    "    <h2 id=\"eda-title\" style=\"color:black; font-family: Verdana, sans-serif; font-size: 25px;\"><strong> Hoofdstuk 4: Beschrijf je Werk </strong></h2>\n",
    "</div>"
   ]
  },
  {
   "cell_type": "markdown",
   "id": "d8c4f2b9",
   "metadata": {},
   "source": [
    "\n",
    "---\n",
    "<div style=\"background-color:LightBlue; text-align:center; vertical-align:middle; padding:50px 0; margin-top:5px; margin-bottom:5px\">\n",
    "    <h2 id=\"eda-title\" style=\"color:black; font-family: Verdana, sans-serif; font-size: 25px;\"><strong> Literatuurlijst </strong></h2>\n",
    "</div>"
   ]
  },
  {
   "cell_type": "markdown",
   "id": "6c120a0e",
   "metadata": {},
   "source": []
  }
 ],
 "metadata": {
  "kernelspec": {
   "display_name": "base",
   "language": "python",
   "name": "python3"
  },
  "language_info": {
   "codemirror_mode": {
    "name": "ipython",
    "version": 3
   },
   "file_extension": ".py",
   "mimetype": "text/x-python",
   "name": "python",
   "nbconvert_exporter": "python",
   "pygments_lexer": "ipython3",
   "version": "3.10.9"
  }
 },
 "nbformat": 4,
 "nbformat_minor": 5
}
