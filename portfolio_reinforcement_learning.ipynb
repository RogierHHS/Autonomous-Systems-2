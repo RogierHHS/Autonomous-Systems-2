{
 "cells": [
  {
   "cell_type": "markdown",
   "id": "ab138be1",
   "metadata": {},
   "source": [
    "<div style=\"background-color:LightBlue; text-align:center; padding:20px;\">\n",
    "    <h2 style=\"color:black; font-family: Verdana, sans-serif;\"><strong>Reinforcement Learning Project - ViZ Doom</strong></h2>\n",
    "    <p style=\"font-size: 14px; color: black; font-family: Verdana, sans-serif;\"> \n",
    "        <table style=\"margin: auto; border-collapse: collapse; color: black;\">\n",
    "            <tr>\n",
    "                <th style=\"border: 0;\">Names</th>\n",
    "                <th style=\"border: 0;\">GitHub Username</th>\n",
    "            </tr>\n",
    "            <tr>\n",
    "                <td style=\"border: 0;\">Rogier Gernaat</td>\n",
    "                <td style=\"border: 0;\">RogierHHS</td>\n",
    "            </tr>\n",
    "            <tr>\n",
    "                <td style=\"border: 0;\">Daan Eising</td>\n",
    "                <td style=\"border: 0;\">DaanEising</td>\n",
    "            </tr>\n",
    "            <tr>\n",
    "                <td style=\"border: 0;\">Julia Boschman</td>\n",
    "                <td style=\"border: 0;\">JuliaBoschman</td>\n",
    "            </tr>\n",
    "            <tr>\n",
    "                <td style=\"border: 0;\">Jort Kankerhoek</td>\n",
    "                <td style=\"border: 0;\">Homoboi</td>\n",
    "            </tr>\n",
    "        </table>\n",
    "    </p>|\n",
    "</div>\n",
    "\n",
    "<div style=\"display: flex; justify-content: center; align-items: center; margin-top: 10px;\">\n",
    "    <img src=\"Overige bestanden/Doomski.png/\" alt=\"Doomski.png\" style=\"width: 1000px; height: auto;\">\n",
    "</div>\n"
   ]
  },
  {
   "cell_type": "markdown",
   "id": "576e3777",
   "metadata": {},
   "source": [
    "- ***Docent***: Vikram Radhakrishnan\n",
    "- ***Datum***: 08-04-2025"
   ]
  },
  {
   "cell_type": "markdown",
   "id": "686185e3",
   "metadata": {},
   "source": [
    "\n",
    "---\n",
    "<div style=\"background-color:LightBlue; text-align:center; vertical-align:middle; padding:50px 0; margin-top:5px; margin-bottom:5px\">\n",
    "    <h2 id=\"eda-title\" style=\"color:black; font-family: Verdana, sans-serif; font-size: 25px;\"><strong> Inhoudsopgave </strong></h2>\n",
    "</div>"
   ]
  },
  {
   "cell_type": "markdown",
   "id": "8e459bee",
   "metadata": {},
   "source": [
    "\n",
    "\n",
    "1. [H1: Inleiding](#1.0)\n",
    "    - [&sect;1.1: Imports](#1.1)\n",
    "2. [H2: Use Case](#2.0)\n",
    "    - [&sect;2.1: Kiezen van Use Case](#2.1)\n",
    "    - [&sect;2.2: Probleemdefinitie en Doelstelling](#2.2)\n",
    "3. [H3: Ontwerp en Implementatie van het RL-model](#3.0)\n",
    "    - [&sect;3.1: Ontwikkelen Baseline strategie](#3.1)\n",
    "    - [&sect;3.2: Implementeren van een algoritme](#3.2)\n",
    "    - [&sect;3.3: Experimenteer met hyperparameters](#3.3)\n",
    "    - [&sect;3.4: Training](#3.4)\n",
    "4. [H4: Valideer en Vergelijk](#4.0)\n",
    "    - [&sect;4.1: Vergelijken met minimaal één baseline](#4.1)\n",
    "    - [&sect;4.2: Analiseren en Visualiseren van Resultaten](#4.2)\n",
    "6. [H5: Beschrijf je werk (Rapport)](#5.0)\n",
    "    - [&sect;6.1: Probleemstelling](#5.1)\n",
    "    - [&sect;6.2: Methodologie](#5.2)\n",
    "    - [&sect;6.3: Resultaten](#5.3)\n",
    "    - [&sect;6.4: Reflectie](#5.4)\n",
    "7. [H6: Literatuurlijst](#6.0)\n",
    "8. [H7: Beoordelingscriteria](#7.0)\n"
   ]
  },
  {
   "cell_type": "markdown",
   "id": "dd6145ef",
   "metadata": {},
   "source": [
    "\n",
    "---\n",
    "<div style=\"background-color:LightBlue; text-align:center; vertical-align:middle; padding:50px 0; margin-top:5px; margin-bottom:5px\">\n",
    "    <h2 id=\"eda-title\" style=\"color:black; font-family: Verdana, sans-serif; font-size: 25px;\"><strong>H1: Inleiding </strong></h2>\n",
    "</div>"
   ]
  },
  {
   "cell_type": "markdown",
   "id": "c3e9c657",
   "metadata": {},
   "source": [
    "<a name='1.1'></a>\n",
    "<h3>&sect;1.1: Imports</h3>"
   ]
  },
  {
   "cell_type": "markdown",
   "id": "6e2ee07e",
   "metadata": {},
   "source": [
    "<div style=\"background-color:white; color:black; padding: 10px;\">\n",
    "    <strong>Importeren van de library's</strong>\n",
    "</div>\n",
    "\n"
   ]
  },
  {
   "cell_type": "code",
   "execution_count": 64,
   "id": "f1b21df6",
   "metadata": {},
   "outputs": [],
   "source": [
    "#Librarys\n",
    "import cv2\n",
    "import random\n",
    "import time\n",
    "import numpy as np\n",
    "import pandas as pd\n",
    "import matplotlib.pyplot as plt\n",
    "\n",
    "#Vizdoom\n",
    "from vizdoom import *\n",
    "from vizdoom import DoomGame, Mode\n",
    "\n",
    "\n",
    "#OpenAI Gym\n",
    "from gym import Env\n",
    "from gym.spaces import Discrete, Box\n"
   ]
  },
  {
   "cell_type": "markdown",
   "id": "5873eb91",
   "metadata": {},
   "source": [
    "<div style=\"background-color:white; color:black; padding: 10px;\">\n",
    "    <strong>Installeren van de VizDoom omgeving</strong>\n",
    "</div>\n",
    "\n",
    "Let op bij het installeren van ViZDoom\n",
    "\n",
    "Bij het installeren van ViZDoom op Windows liep ik tegen een fout aan: de installatie faalde omdat de `vizdoom` package niet goed overweg kan met recente Python-versies (zoals 3.12 of 3.13). ViZDoom ondersteunt op dit moment alleen Python **tot en met 3.11**, en het bouwen van de package faalt bij nieuwere versies."
   ]
  },
  {
   "cell_type": "code",
   "execution_count": 57,
   "id": "0cb42994",
   "metadata": {},
   "outputs": [
    {
     "name": "stdout",
     "output_type": "stream",
     "text": [
      "Collecting matplotlib\n",
      "  Downloading matplotlib-3.10.1-cp310-cp310-win_amd64.whl.metadata (11 kB)\n",
      "Collecting contourpy>=1.0.1 (from matplotlib)\n",
      "  Downloading contourpy-1.3.1-cp310-cp310-win_amd64.whl.metadata (5.4 kB)\n",
      "Collecting cycler>=0.10 (from matplotlib)\n",
      "  Downloading cycler-0.12.1-py3-none-any.whl.metadata (3.8 kB)\n",
      "Collecting fonttools>=4.22.0 (from matplotlib)\n",
      "  Downloading fonttools-4.57.0-cp310-cp310-win_amd64.whl.metadata (104 kB)\n",
      "Collecting kiwisolver>=1.3.1 (from matplotlib)\n",
      "  Downloading kiwisolver-1.4.8-cp310-cp310-win_amd64.whl.metadata (6.3 kB)\n",
      "Requirement already satisfied: numpy>=1.23 in c:\\users\\marinda\\onedrive\\desktop\\rogier schoolmap\\autonomous systems\\portfolio 2\\.venv\\lib\\site-packages (from matplotlib) (2.2.4)\n",
      "Requirement already satisfied: packaging>=20.0 in c:\\users\\marinda\\onedrive\\desktop\\rogier schoolmap\\autonomous systems\\portfolio 2\\.venv\\lib\\site-packages (from matplotlib) (24.2)\n",
      "Collecting pillow>=8 (from matplotlib)\n",
      "  Downloading pillow-11.1.0-cp310-cp310-win_amd64.whl.metadata (9.3 kB)\n",
      "Collecting pyparsing>=2.3.1 (from matplotlib)\n",
      "  Downloading pyparsing-3.2.3-py3-none-any.whl.metadata (5.0 kB)\n",
      "Requirement already satisfied: python-dateutil>=2.7 in c:\\users\\marinda\\onedrive\\desktop\\rogier schoolmap\\autonomous systems\\portfolio 2\\.venv\\lib\\site-packages (from matplotlib) (2.9.0.post0)\n",
      "Requirement already satisfied: six>=1.5 in c:\\users\\marinda\\onedrive\\desktop\\rogier schoolmap\\autonomous systems\\portfolio 2\\.venv\\lib\\site-packages (from python-dateutil>=2.7->matplotlib) (1.17.0)\n",
      "Downloading matplotlib-3.10.1-cp310-cp310-win_amd64.whl (8.1 MB)\n",
      "   ---------------------------------------- 0.0/8.1 MB ? eta -:--:--\n",
      "   ---------------------------------------- 8.1/8.1 MB 70.8 MB/s eta 0:00:00\n",
      "Downloading contourpy-1.3.1-cp310-cp310-win_amd64.whl (218 kB)\n",
      "Downloading cycler-0.12.1-py3-none-any.whl (8.3 kB)\n",
      "Downloading fonttools-4.57.0-cp310-cp310-win_amd64.whl (2.2 MB)\n",
      "   ---------------------------------------- 0.0/2.2 MB ? eta -:--:--\n",
      "   ---------------------------------------- 2.2/2.2 MB 121.4 MB/s eta 0:00:00\n",
      "Downloading kiwisolver-1.4.8-cp310-cp310-win_amd64.whl (71 kB)\n",
      "Downloading pillow-11.1.0-cp310-cp310-win_amd64.whl (2.6 MB)\n",
      "   ---------------------------------------- 0.0/2.6 MB ? eta -:--:--\n",
      "   ---------------------------------------- 2.6/2.6 MB 76.2 MB/s eta 0:00:00\n",
      "Downloading pyparsing-3.2.3-py3-none-any.whl (111 kB)\n",
      "Installing collected packages: pyparsing, pillow, kiwisolver, fonttools, cycler, contourpy, matplotlib\n",
      "Successfully installed contourpy-1.3.1 cycler-0.12.1 fonttools-4.57.0 kiwisolver-1.4.8 matplotlib-3.10.1 pillow-11.1.0 pyparsing-3.2.3\n"
     ]
    }
   ],
   "source": [
    "!pip install vizdoom"
   ]
  },
  {
   "cell_type": "code",
   "execution_count": 3,
   "id": "a2860f00",
   "metadata": {},
   "outputs": [
    {
     "name": "stderr",
     "output_type": "stream",
     "text": [
      "The system cannot find the path specified.\n",
      "Cloning into 'ViZDoom'...\n",
      "Updating files:  76% (1580/2057)\n",
      "Updating files:  77% (1584/2057)\n",
      "Updating files:  78% (1605/2057)\n",
      "Updating files:  79% (1626/2057)\n",
      "Updating files:  80% (1646/2057)\n",
      "Updating files:  81% (1667/2057)\n",
      "Updating files:  82% (1687/2057)\n",
      "Updating files:  83% (1708/2057)\n",
      "Updating files:  84% (1728/2057)\n",
      "Updating files:  85% (1749/2057)\n",
      "Updating files:  86% (1770/2057)\n",
      "Updating files:  87% (1790/2057)\n",
      "Updating files:  88% (1811/2057)\n",
      "Updating files:  89% (1831/2057)\n",
      "Updating files:  90% (1852/2057)\n",
      "Updating files:  91% (1872/2057)\n",
      "Updating files:  92% (1893/2057)\n",
      "Updating files:  93% (1914/2057)\n",
      "Updating files:  94% (1934/2057)\n",
      "Updating files:  95% (1955/2057)\n",
      "Updating files:  96% (1975/2057)\n",
      "Updating files:  97% (1996/2057)\n",
      "Updating files:  98% (2016/2057)\n",
      "Updating files:  99% (2037/2057)\n",
      "Updating files: 100% (2057/2057)\n",
      "Updating files: 100% (2057/2057), done.\n"
     ]
    }
   ],
   "source": [
    "!cd github & git clone https://github.com/mwydmuch/ViZDoom.git"
   ]
  },
  {
   "cell_type": "markdown",
   "id": "1364cbba",
   "metadata": {},
   "source": [
    "\n",
    "---\n",
    "<div style=\"background-color:LightBlue; text-align:center; vertical-align:middle; padding:50px 0; margin-top:5px; margin-bottom:5px\">\n",
    "    <h2 id=\"eda-title\" style=\"color:black; font-family: Verdana, sans-serif; font-size: 25px;\"><strong>H2: Use Case </strong></h2>\n",
    "</div>\n",
    "\n"
   ]
  },
  {
   "cell_type": "markdown",
   "id": "9d3d9114",
   "metadata": {},
   "source": [
    "<a name='2.1'></a>\n",
    "<h3>&sect;2.1: Kiezen van Use Case</h3>"
   ]
  },
  {
   "cell_type": "markdown",
   "id": "083fbc33",
   "metadata": {},
   "source": [
    "<a name='2.2'></a>\n",
    "<h3>&sect;2.2: Probleemdefinitie en Doelstelling</h3>"
   ]
  },
  {
   "cell_type": "markdown",
   "id": "beb7bd73",
   "metadata": {},
   "source": [
    "\n",
    "---\n",
    "<div style=\"background-color:LightBlue; text-align:center; vertical-align:middle; padding:50px 0; margin-top:5px; margin-bottom:5px\">\n",
    "    <h2 id=\"eda-title\" style=\"color:black; font-family: Verdana, sans-serif; font-size: 25px;\"><strong> H3: Ontwerp en Implementatie </strong></h2>\n",
    "</div>"
   ]
  },
  {
   "cell_type": "markdown",
   "id": "ce445028",
   "metadata": {},
   "source": [
    "<div style=\"background-color:white; color:black; padding: 10px;\">\n",
    "    <strong>Testen met basic.was scenario</strong>\n",
    "</div>\n",
    "\n",
    "In deze sectie testen we of ViZDoom goed functioneert door het `basic.wad` scenario op te starten. We laten een eenvoudige agent willekeurige acties uitvoeren, zodat we kunnen controleren of de installatie werkt en hoe de omgeving reageert.\n",
    "\n",
    "---\n",
    "\n",
    "###  Waar komen de bestanden vandaan?\n",
    "\n",
    "Wanneer je ViZDoom installeert via pip en de repository op github, worden er automatisch enkele **standaard scenario’s** meegeleverd. Deze scenario's bevatten `.cfg` (configuratie) bestanden en `.wad` (level/map) bestanden, zoals:\n",
    "\n",
    "- `basic.cfg`: bevat instellingen zoals de tijdslimiet van het spel, welke acties beschikbaar zijn, hoe rewards worden toegekend, enz.\n",
    "- `basic.wad`: dit is de daadwerkelijke map/omgeving waarin het spel zich afspeelt — in dit geval één kamer met een vijand.\n",
    "\n",
    "Zorg dat je `basic.cfg` pad goed staat in je project. Meestal zitten deze bestanden in de `ViZDoom/scenarios/` map.\n",
    "\n",
    "---\n",
    "\n",
    "###  Wat doet deze test?\n",
    "\n",
    "De test start het Basic-scenario, voert een willekeurige actie uit in elk timestep, en toont de reward die de agent ontvangt. Aan het einde printen we de totale beloning.\n",
    "\n",
    "De code doorloopt dus een **volledige episode** van het spel, van begin tot eind, zonder dat de agent slimme keuzes maakt. Het is puur bedoeld als functionele test.\n",
    "\n",
    "---\n",
    "\n",
    "###  Wat zijn actions?\n",
    "\n",
    "De mogelijke acties in het Basic-scenario zijn beperkt tot:\n",
    "\n",
    "- `LEFT` (beweeg naar links)\n",
    "- `RIGHT` (beweeg naar rechts)\n",
    "- `ATTACK` (schiet)\n",
    "\n",
    "In de code worden deze acties als lijsten geschreven:\n",
    "\n",
    "```python\n",
    "[1, 0, 0]  # alleen links\n",
    "[0, 1, 0]  # alleen rechts\n",
    "[0, 0, 1]  # alleen schieten\n"
   ]
  },
  {
   "cell_type": "code",
   "execution_count": 22,
   "id": "dea21c86",
   "metadata": {},
   "outputs": [
    {
     "name": "stdout",
     "output_type": "stream",
     "text": [
      "Episode gestart...\n",
      "Reward: -1.0\n",
      "Reward: -1.0\n",
      "Reward: -1.0\n",
      "Reward: -1.0\n",
      "Reward: -1.0\n",
      "Reward: -1.0\n",
      "Reward: -1.0\n",
      "Reward: -1.0\n",
      "Reward: -1.0\n",
      "Reward: -1.0\n",
      "Reward: -1.0\n",
      "Reward: -1.0\n",
      "Reward: -1.0\n",
      "Reward: -1.0\n",
      "Reward: -1.0\n",
      "Reward: -1.0\n",
      "Reward: -6.0\n",
      "Reward: -1.0\n",
      "Reward: -1.0\n",
      "Reward: -1.0\n",
      "Reward: -1.0\n",
      "Reward: -1.0\n",
      "Reward: -1.0\n",
      "Reward: -1.0\n",
      "Reward: -1.0\n",
      "Reward: -1.0\n",
      "Reward: -1.0\n",
      "Reward: -1.0\n",
      "Reward: -1.0\n",
      "Reward: -1.0\n",
      "Reward: -1.0\n",
      "Reward: -1.0\n",
      "Reward: -1.0\n",
      "Reward: -1.0\n",
      "Reward: -1.0\n",
      "Reward: -1.0\n",
      "Reward: -1.0\n",
      "Reward: -1.0\n",
      "Reward: -6.0\n",
      "Reward: -1.0\n",
      "Reward: -1.0\n",
      "Reward: -1.0\n",
      "Reward: -1.0\n",
      "Reward: -1.0\n",
      "Reward: -1.0\n",
      "Reward: -1.0\n",
      "Reward: -1.0\n",
      "Reward: -1.0\n",
      "Reward: -1.0\n",
      "Reward: -1.0\n",
      "Reward: -1.0\n",
      "Reward: -1.0\n",
      "Reward: -6.0\n",
      "Reward: -1.0\n",
      "Reward: -1.0\n",
      "Reward: -1.0\n",
      "Reward: -1.0\n",
      "Reward: -1.0\n",
      "Reward: -1.0\n",
      "Reward: -1.0\n",
      "Reward: -1.0\n",
      "Reward: -1.0\n",
      "Reward: -1.0\n",
      "Reward: -1.0\n",
      "Reward: -1.0\n",
      "Reward: -1.0\n",
      "Reward: -1.0\n",
      "Reward: -1.0\n",
      "Reward: -1.0\n",
      "Reward: -1.0\n",
      "Reward: -1.0\n",
      "Reward: -1.0\n",
      "Reward: -1.0\n",
      "Reward: -1.0\n",
      "Reward: -6.0\n",
      "Reward: -1.0\n",
      "Reward: -1.0\n",
      "Reward: -1.0\n",
      "Reward: -1.0\n",
      "Reward: -1.0\n",
      "Reward: -1.0\n",
      "Reward: -1.0\n",
      "Reward: -1.0\n",
      "Reward: -1.0\n",
      "Reward: -1.0\n",
      "Reward: -1.0\n",
      "Reward: -1.0\n",
      "Reward: -1.0\n",
      "Reward: -6.0\n",
      "Reward: -1.0\n",
      "Reward: -1.0\n",
      "Reward: -1.0\n",
      "Reward: -1.0\n",
      "Reward: -1.0\n",
      "Reward: -1.0\n",
      "Reward: -1.0\n",
      "Reward: -1.0\n",
      "Reward: -1.0\n",
      "Reward: -1.0\n",
      "Reward: -1.0\n",
      "Reward: -1.0\n",
      "Reward: -1.0\n",
      "Reward: -1.0\n",
      "Reward: -1.0\n",
      "Reward: -1.0\n",
      "Reward: -1.0\n",
      "Reward: -1.0\n",
      "Reward: -1.0\n",
      "Reward: -1.0\n",
      "Reward: 100.0\n",
      "Reward: -1.0\n",
      "Totale score: -35.0\n"
     ]
    }
   ],
   "source": [
    "# Setup Doom-game\n",
    "game = DoomGame()\n",
    "game.load_config(\"ViZDoom/scenarios/basic.cfg\")  \n",
    "game.set_window_visible(True)  # Maakt het spel zichtbaar\n",
    "game.init()\n",
    "\n",
    "# Definieer toegestane acties in basic.wad: [left, right, shoot]\n",
    "actions = [[1, 0, 0],  # Left\n",
    "           [0, 1, 0],  # Right\n",
    "           [0, 0, 1]]  # Shoot\n",
    "\n",
    "# Speel één episode met random acties\n",
    "print(\"Episode gestart...\")\n",
    "game.new_episode()\n",
    "\n",
    "while not game.is_episode_finished():\n",
    "    state = game.get_state()\n",
    "    reward = game.make_action(random.choice(actions))\n",
    "    print(\"Reward:\", reward)\n",
    "    time.sleep(0.03)  # Vertraagt het spel om het beter te kunnen volgen\n",
    "\n",
    "print(\"Totale score:\", game.get_total_reward())\n",
    "game.close()\n"
   ]
  },
  {
   "cell_type": "code",
   "execution_count": 49,
   "id": "d0f25a9c",
   "metadata": {},
   "outputs": [
    {
     "data": {
      "text/plain": [
       "array([[[35, 35, 35, ..., 35, 35, 35],\n",
       "        [55, 55, 55, ..., 55, 55, 55],\n",
       "        [67, 67, 67, ..., 67, 67, 67],\n",
       "        ...,\n",
       "        [19, 19, 11, ..., 47, 47, 55],\n",
       "        [19, 27, 19, ..., 47, 47, 47],\n",
       "        [11, 19, 19, ..., 27, 19, 19]],\n",
       "\n",
       "       [[35, 35, 35, ..., 35, 35, 35],\n",
       "        [55, 55, 55, ..., 55, 55, 55],\n",
       "        [67, 67, 67, ..., 67, 67, 67],\n",
       "        ...,\n",
       "        [19, 19, 11, ..., 47, 47, 55],\n",
       "        [19, 27, 19, ..., 47, 47, 47],\n",
       "        [11, 19, 19, ..., 27, 19, 19]],\n",
       "\n",
       "       [[35, 35, 35, ..., 35, 35, 35],\n",
       "        [55, 55, 55, ..., 55, 55, 55],\n",
       "        [67, 67, 67, ..., 67, 67, 67],\n",
       "        ...,\n",
       "        [19, 19, 11, ..., 47, 47, 55],\n",
       "        [19, 27, 19, ..., 47, 47, 47],\n",
       "        [11, 19, 19, ..., 27, 19, 19]]], shape=(3, 240, 320), dtype=uint8)"
      ]
     },
     "execution_count": 49,
     "metadata": {},
     "output_type": "execute_result"
    }
   ],
   "source": [
    "img = state.screen_buffer\n",
    "img"
   ]
  },
  {
   "cell_type": "markdown",
   "id": "c350903b",
   "metadata": {},
   "source": [
    "<div style=\"background-color:white; color:black; padding: 10px;\">\n",
    "    <strong>Observaties</strong>\n",
    "</div>\n",
    "\n",
    "Wat je kunt zien tijdens het uitvoeren van een episode met willekeurige acties, is dat de agent na bijna elke actie een reward van **-1.0** ontvangt. Dit betekent dat het ViZDoom-scenario zo is ingericht dat elke actie (zoals bewegen of schieten) een kleine straf oplevert. Op deze manier wordt de agent aangemoedigd om **doelgericht** te handelen, in plaats van doelloos rond te bewegen of continu te schieten.\n",
    "\n",
    "Pas op het moment dat de agent de vijand raakt (door succesvol te schieten), krijgt hij een grotere beloning van bijvoorbeeld **+100.0**. Dit verschil tussen kleine negatieve en grote positieve rewards is essentieel in reinforcement learning: het helpt de agent om te leren **wat wel en niet effectief is**.\n",
    "\n",
    "Tijdens de test zie je:\n",
    "\n",
    "- De agent beweegt of schiet → reward: -1.0\n",
    "- Als de agent de vijand raakt (per toeval) → reward: +100.0\n",
    "- Zodra de vijand is verslagen of de tijd op is → de episode eindigt\n",
    "- De totale score wordt weergegeven met `get_total_reward()` — dit is de som van alle beloningen die de agent in die episode heeft ontvangen\n",
    "\n",
    "Omdat deze agent puur willekeurige acties uitvoert, is zijn gedrag ongericht. Je zult merken dat de **totale score per episode erg varieert**, en meestal vrij laag is. Dit bevestigt dat de random agent geen strategie gebruikt\n"
   ]
  },
  {
   "cell_type": "markdown",
   "id": "ea2a8677",
   "metadata": {},
   "source": [
    "<div style=\"background-color:white; color:black; padding: 10px;\">\n",
    "    <strong>Opzetten van een zelfgemaakte ViZDoom-omgeving</strong>\n",
    "</div>\n",
    "\n",
    "In deze sectie bouwen we onze eigen environment class voor ViZDoom. Deze omgeving vormt een tussenlaag tussen onze reinforcement learning-agent en het spel. We maken een klasse aan met methodes zoals `reset()`, `step()`, `render()` en `close()` — zodat onze agent op een gestructureerde manier met de gameomgeving kan communiceren.\n",
    "\n",
    "---\n",
    "\n",
    "###  Waarom maken we een eigen RL-omgeving?\n",
    "\n",
    "In reinforcement learning werkt een agent altijd in interactie met een **omgeving**. Deze omgeving moet de agent toestaan om:\n",
    "\n",
    "- een actie te nemen,\n",
    "- feedback (reward) te ontvangen,\n",
    "- en een nieuwe toestand (state) te observeren.\n",
    "\n",
    "Door een eigen omgeving te programmeren, creëren we een **duidelijke structuur** die makkelijk herbruikbaar is. Dit maakt het eenvoudiger om:\n",
    "\n",
    "- onze eigen agent (zoals een Q-learning agent) te bouwen,\n",
    "- de training te herhalen over meerdere episodes,\n",
    "- en eventueel later andere scenario’s te integreren zonder de logica te herschrijven.\n",
    "\n",
    "Onze omgeving is **niet gebaseerd op kant-en-klare pakketten**, maar volledig handmatig geprogrammeerd. Hierdoor blijft het project binnen de richtlijnen van de opdracht.\n",
    "\n",
    "---\n",
    "\n",
    "###  Wat zit er in onze omgeving?\n",
    "\n",
    "Onze class bevat onder andere:\n",
    "\n",
    "- `__init__()`: start de game, zet de actie-ruimte en observation-space op, en bepaalt of het spel gerenderd wordt.\n",
    "- `step(action)`: voert een actie uit, geeft de reward terug, en retourneert de nieuwe toestand.\n",
    "- `reset()`: start een nieuwe episode.\n",
    "- `close()`: sluit de game netjes af.\n",
    "- `grayscale()`: converteert het raw gamebeeld naar zwart-wit en schaalt het terug naar een eenvoudiger formaat, zodat het minder geheugen/intensiteit vereist.\n",
    "\n",
    "---\n",
    "\n",
    "###  Waarom is dit nuttig voor ons project?\n",
    "\n",
    "Deze aanpak zorgt ervoor dat onze agent niet hoeft te weten **hoe ViZDoom precies werkt**. Alles wat de agent hoeft te doen, is `env.step(action)` en `env.reset()` gebruiken — en dat maakt het trainen van een RL-model overzichtelijker.\n",
    "\n",
    "Bovendien kunnen we deze omgeving makkelijk hergebruiken voor verschillende algoritmes (zoals Sarsa of Deep Q-Learning), zonder de interne werking telkens opnieuw te moeten implementeren.\n",
    "\n",
    "Tot slot: door **zelf de omgeving te bouwen**, tonen we aan dat we **begrijpen hoe de interface tussen agent en omgeving werkt** — en dat is een belangrijk leerdoel van deze opdracht.\n"
   ]
  },
  {
   "cell_type": "code",
   "execution_count": 111,
   "id": "f303293a",
   "metadata": {},
   "outputs": [],
   "source": [
    "class VizDoomEnvironment:\n",
    "    # Functie die we callen wanneer we de environment starten\n",
    "    def __init__(self, render=False):\n",
    "        self.game = DoomGame()\n",
    "        self.game.load_config(\"ViZDoom/scenarios/basic.cfg\")\n",
    "\n",
    "        # Maken van render logica\n",
    "        if render == False:\n",
    "            self.game.set_window_visible(False)\n",
    "        else:\n",
    "            self.game.set_window_visible(True)\n",
    "\n",
    "        # Starten van de game\n",
    "        self.game.init()\n",
    "\n",
    "        # Zelf gedefinieerde eigenschappen in plaats van gym.spaces\n",
    "        self.observation_shape = (100, 160, 1)  # De shape van de image die we krijgen\n",
    "        self.num_actions = 3                    # De acties die we kunnen doen in de game, in dit geval 3: [left, right, shoot]\n",
    "        self.actions = [[1, 0, 0],  # Left\n",
    "                        [0, 1, 0],  # Right\n",
    "                        [0, 0, 1]]  # Shoot\n",
    "\n",
    "    # Dit is hoe we een stap nemen in de environment\n",
    "    def step(self, action):\n",
    "        # Specificeer de actie en neem de stap\n",
    "        reward = self.game.make_action(self.actions[action])  # De reward die we terug krijgen van de game\n",
    "\n",
    "        # Overige informatie die we returnen\n",
    "        if self.game.get_state():\n",
    "            state = self.game.get_state().screen_buffer\n",
    "            state = self.grayscale(state)\n",
    "            info = self.game.get_state().game_variables  # De game variables die we terug krijgen van de game\n",
    "        else:\n",
    "            state = np.zeros(self.observation_shape)\n",
    "            info = 0\n",
    "\n",
    "        done = self.game.is_episode_finished()\n",
    "\n",
    "        return state, reward, done, info\n",
    "\n",
    "    # Wat er gebeurt als we een nieuwe episode starten\n",
    "    def reset(self):\n",
    "        self.game.new_episode()  # Start een nieuwe episode\n",
    "        state = self.game.get_state().screen_buffer  # Geeft de state terug van de game\n",
    "        return self.grayscale(state)  # Geeft de grayscale image terug\n",
    "\n",
    "    # Grayscale de game image/frame en resize de image naar 160x100\n",
    "    def grayscale(self, observation):\n",
    "        gray = cv2.cvtColor(np.moveaxis(observation, 0, -1), cv2.COLOR_BGR2GRAY)  # Zet de image om naar grayscale\n",
    "        resize = cv2.resize(gray, (160, 100), interpolation=cv2.INTER_CUBIC)\n",
    "        state = np.reshape(resize, (100, 160, 1)) \n",
    "        return state \n",
    "\n",
    "    # Call de close functie om de game af te sluiten\n",
    "    def close(self):\n",
    "        self.game.close()  # Sluit de game af\n"
   ]
  },
  {
   "cell_type": "markdown",
   "id": "6aa0a62f",
   "metadata": {},
   "source": [
    "<div style=\"background-color:white; color:black; padding: 10px;\">\n",
    "    <strong>Testen van de environment</strong>\n",
    "</div>"
   ]
  },
  {
   "cell_type": "code",
   "execution_count": null,
   "id": "9b2cb738",
   "metadata": {},
   "outputs": [],
   "source": [
    "env = VizDoomGym(render = True) #Start de environment\n"
   ]
  },
  {
   "cell_type": "code",
   "execution_count": null,
   "id": "62cead28",
   "metadata": {},
   "outputs": [
    {
     "data": {
      "text/plain": [
       "(100, 160, 1)"
      ]
     },
     "execution_count": 90,
     "metadata": {},
     "output_type": "execute_result"
    }
   ],
   "source": [
    "#bekijken van de shape\n",
    "state.shape "
   ]
  },
  {
   "cell_type": "markdown",
   "id": "976ccf00",
   "metadata": {},
   "source": [
    "<div style=\"background-color:white; color:black; padding: 10px;\">\n",
    "    <strong>Observatie van een enkele stap in de omgeving</strong>\n",
    "</div>\n",
    "\n",
    "In deze observatie bekijken we wat er gebeurt wanneer we handmatig een actie uitvoeren binnen onze zelfgemaakte ViZDoom-omgeving. We gebruiken hiervoor de functie `env.step(2)`. De actie `2` staat in onze omgeving gelijk aan de actie **schieten** (`[0, 0, 1]`). \n",
    "\n",
    "De functie `step()` geeft vier waarden terug: de nieuwe state (observatie), de beloning, een boolean of de episode klaar is, en extra informatie over de toestand van het spel in dit geval de hoeveelheid levens van de karakter. De output ziet er bijvoorbeeld als volgt uit:\n",
    "\n",
    "```python\n",
    "(array([[[...]]], shape=(100, 160, 1), dtype=uint8),\n",
    " -1.0,\n",
    " False,\n",
    " array([50.]))\n"
   ]
  },
  {
   "cell_type": "code",
   "execution_count": null,
   "id": "6aee6dc5",
   "metadata": {},
   "outputs": [
    {
     "data": {
      "text/plain": [
       "(array([[[55],\n",
       "         [50],\n",
       "         [59],\n",
       "         ...,\n",
       "         [57],\n",
       "         [57],\n",
       "         [66]],\n",
       " \n",
       "        [[68],\n",
       "         [65],\n",
       "         [65],\n",
       "         ...,\n",
       "         [56],\n",
       "         [67],\n",
       "         [72]],\n",
       " \n",
       "        [[49],\n",
       "         [79],\n",
       "         [66],\n",
       "         ...,\n",
       "         [79],\n",
       "         [51],\n",
       "         [29]],\n",
       " \n",
       "        ...,\n",
       " \n",
       "        [[75],\n",
       "         [63],\n",
       "         [62],\n",
       "         ...,\n",
       "         [44],\n",
       "         [71],\n",
       "         [60]],\n",
       " \n",
       "        [[15],\n",
       "         [48],\n",
       "         [47],\n",
       "         ...,\n",
       "         [49],\n",
       "         [69],\n",
       "         [47]],\n",
       " \n",
       "        [[22],\n",
       "         [14],\n",
       "         [26],\n",
       "         ...,\n",
       "         [57],\n",
       "         [37],\n",
       "         [39]]], shape=(100, 160, 1), dtype=uint8),\n",
       " -1.0,\n",
       " False,\n",
       " array([50.]))"
      ]
     },
     "execution_count": 113,
     "metadata": {},
     "output_type": "execute_result"
    }
   ],
   "source": [
    "#Hier kunnen we handmatig een actie invoeren en de resultaten bekijken\n",
    "Env.step(2)"
   ]
  },
  {
   "cell_type": "markdown",
   "id": "e6fe0958",
   "metadata": {},
   "source": [
    "<div style=\"background-color:white; color:black; padding: 10px;\">\n",
    "    <strong>Visualisatie van een gameframe</strong>\n",
    "</div>\n",
    "\n",
    "De afbeelding hierboven is een voorbeeld van een gameframe zoals de agent die op dit moment ontvangt binnen een episode. Je kunt hier goed zien dat de game correct geladen is: het wapen van de speler is zichtbaar in het midden, en links zien we de vijand die geraakt moet worden.\n",
    "\n",
    "Dit soort visualisaties zijn handig om te controleren of de environment goed werkt en of de observaties die de agent binnenkrijgt logisch zijn. Als je hier bijvoorbeeld een zwart scherm of fout beeld zou zien, weet je dat er iets mis is met de state-afhandeling of het `.step()`-proces.\n",
    "\n",
    "Het beeld is automatisch **omgezet naar grijswaarden** en **verkleind naar 160×100 pixels**. Dat hebben we bewust gedaan om het **simpeler en efficiënter** te maken voor de reinforcement learning agent. Kleuren en hoge resolutie zijn niet nodig voor dit scenario — het gaat er vooral om dat de agent de posities van objecten herkent en leert hoe hij moet reageren.\n",
    "\n",
    "Deze versimpeling helpt bij het versnellen van het leerproces en het verminderen van het geheugenverbruik tijdens training.\n"
   ]
  },
  {
   "cell_type": "code",
   "execution_count": 115,
   "id": "1d99e0dd",
   "metadata": {},
   "outputs": [
    {
     "data": {
      "text/plain": [
       "<matplotlib.image.AxesImage at 0x28506b9e470>"
      ]
     },
     "execution_count": 115,
     "metadata": {},
     "output_type": "execute_result"
    },
    {
     "data": {
      "image/png": "[encoded data removed]",
      "text/plain": [
       "<Figure size 640x480 with 1 Axes>"
      ]
     },
     "metadata": {},
     "output_type": "display_data"
    }
   ],
   "source": [
    "plt.imshow(cv2.cvtColor(state, cv2.COLOR_BGR2RGB))"
   ]
  },
  {
   "cell_type": "markdown",
   "id": "ad0cdf2f",
   "metadata": {},
   "source": [
    "<a name='3.1'></a>\n",
    "<h3>&sect;3.1: Ontwikkelen Baseline Stategie</h3>"
   ]
  },
  {
   "cell_type": "markdown",
   "id": "0d52bc60",
   "metadata": {},
   "source": []
  },
  {
   "cell_type": "code",
   "execution_count": null,
   "id": "a07d8bdf",
   "metadata": {},
   "outputs": [
    {
     "name": "stdout",
     "output_type": "stream",
     "text": [
      "Episode gestart...\n",
      "Reward: -1.0\n",
      "Reward: -1.0\n",
      "Reward: -1.0\n",
      "Reward: -1.0\n",
      "Reward: -1.0\n",
      "Reward: -1.0\n",
      "Reward: -1.0\n",
      "Reward: -1.0\n",
      "Reward: -1.0\n",
      "Reward: -1.0\n",
      "Reward: -1.0\n",
      "Reward: 100.0\n",
      "Reward: -1.0\n",
      "Totale score: 88.0\n"
     ]
    }
   ],
   "source": []
  },
  {
   "cell_type": "markdown",
   "id": "bdb8925b",
   "metadata": {},
   "source": [
    "<a name='3.1'></a>\n",
    "<h3>&sect;3.2: Implementeren van een Algoritme</h3>"
   ]
  },
  {
   "cell_type": "markdown",
   "id": "e052efe5",
   "metadata": {},
   "source": [
    "<a name='3.3'></a>\n",
    "<h3>&sect;3.3: Experimenteren met hyperparameters</h3>"
   ]
  },
  {
   "cell_type": "markdown",
   "id": "5ec0263e",
   "metadata": {},
   "source": [
    "<a name='3.4'></a>\n",
    "<h3>&sect;3.4: Training</h3>"
   ]
  },
  {
   "cell_type": "markdown",
   "id": "6df3078c",
   "metadata": {},
   "source": [
    "\n",
    "---\n",
    "<div style=\"background-color:LightBlue; text-align:center; vertical-align:middle; padding:50px 0; margin-top:5px; margin-bottom:5px\">\n",
    "    <h2 id=\"eda-title\" style=\"color:black; font-family: Verdana, sans-serif; font-size: 25px;\"><strong> H4: Valideer en Vergelijk </strong></h2>\n",
    "</div>"
   ]
  },
  {
   "cell_type": "markdown",
   "id": "ddcdf2f7",
   "metadata": {},
   "source": [
    "<a name='4.1'></a>\n",
    "<h3>&sect;4.1 Vergelijken met minimaal één baseline</h3>"
   ]
  },
  {
   "cell_type": "markdown",
   "id": "02ffabfe",
   "metadata": {},
   "source": [
    "<a name='4.2'></a>\n",
    "<h3>&sect;4.2: Analiseren en Visualiseren van Resultaten </h3>"
   ]
  },
  {
   "cell_type": "markdown",
   "id": "13804ddc",
   "metadata": {},
   "source": [
    "\n",
    "---\n",
    "<div style=\"background-color:LightBlue; text-align:center; vertical-align:middle; padding:50px 0; margin-top:5px; margin-bottom:5px\">\n",
    "    <h2 id=\"eda-title\" style=\"color:black; font-family: Verdana, sans-serif; font-size: 25px;\"><strong> H5: Beschrijf je Werk (Rapporteren) </strong></h2>\n",
    "</div>"
   ]
  },
  {
   "cell_type": "markdown",
   "id": "3f650862",
   "metadata": {},
   "source": [
    "<a name='5.1'></a>\n",
    "<h3>&sect;5.1: Probleemstelling</h3>"
   ]
  },
  {
   "cell_type": "markdown",
   "id": "138c1f76",
   "metadata": {},
   "source": [
    "<a name='5.2'></a>\n",
    "<h3>&sect;5.2: Methodologie</h3>"
   ]
  },
  {
   "cell_type": "markdown",
   "id": "a3a39761",
   "metadata": {},
   "source": [
    "<a name='5.3'></a>\n",
    "<h3>&sect;5.3: Resultaten</h3>"
   ]
  },
  {
   "cell_type": "markdown",
   "id": "ce017729",
   "metadata": {},
   "source": [
    "<a name='5.4'></a>\n",
    "<h3>&sect;5.4: Reflectie</h3>"
   ]
  },
  {
   "cell_type": "markdown",
   "id": "d8c4f2b9",
   "metadata": {},
   "source": [
    "\n",
    "---\n",
    "<div style=\"background-color:LightBlue; text-align:center; vertical-align:middle; padding:50px 0; margin-top:5px; margin-bottom:5px\">\n",
    "    <h2 id=\"eda-title\" style=\"color:black; font-family: Verdana, sans-serif; font-size: 25px;\"><strong> H6: Literatuurlijst </strong></h2>\n",
    "</div>"
   ]
  },
  {
   "cell_type": "markdown",
   "id": "6c120a0e",
   "metadata": {},
   "source": [
    "\n",
    "---\n",
    "<div style=\"background-color:LightBlue; text-align:center; vertical-align:middle; padding:50px 0; margin-top:5px; margin-bottom:5px\">\n",
    "    <h2 id=\"eda-title\" style=\"color:black; font-family: Verdana, sans-serif; font-size: 25px;\"><strong> H7: Beoordelingscriteria </strong></h2>\n",
    "</div>"
   ]
  },
  {
   "cell_type": "markdown",
   "id": "b43a4caf",
   "metadata": {},
   "source": [
    "| **Criteria**                | **Level 4 (5p)**                                                                                                                                                       | **Level 3 (3p)**                                                                                                                                                        | **Level 2 (2p)**                                                                                                                                                       | **Level 1 (0p)**                                                                                                      |\n",
    "|----------------------------|------------------------------------------------------------------------------------------------------------------------------------------------------------------------|-------------------------------------------------------------------------------------------------------------------------------------------------------------------------|------------------------------------------------------------------------------------------------------------------------------------------------------------------------|-----------------------------------------------------------------------------------------------------------------------|\n",
    "| **Use-case kiezen**        | De gekozen use-case is creatief, de toepassing is realistisch met duidelijke meerwaarde van RL. Overtuigende motivatie voor RL wordt gegeven.                          | De use-case is creatief en geschikt voor RL en het probleem is goed gedefinieerd, maar de argumentatie is beperkt of vergelijkt de RL benadering niet met andere benaderingen. | De use-case is praktisch maar weinig innovatief, of er wordt beperkte analyse van de meerwaarde van RL.                          | Triviale of irrelevante use-case, die niet geschikt is voor RL. Weinig of geen argumentatie gegeven.                 |\n",
    "| **Begrip van RL**          | Er wordt een uitgebreide uitleg gegeven van het gekozen RL-algoritme.                                                                                                 | Er is sprake van een basiskennis van het RL-algoritme, maar de uitleg is beperkt of niet gedetailleerd genoeg.                                                         | Oppervlakkige uitleg (bv. de agent leert een hogere reward te krijgen) zonder verdere uitwerking. Kleine fouten in de uitleg.    | Volledig verkeerde, onduidelijke of ontbrekende uitleg.                                                              |\n",
    "| **Implementatie**          | De Python-implementatie werkt volledig zoals verwacht. De agent leert op een slimme en efficiënte manier door de omgeving te navigeren. De simulatie is 100% reproduceerbaar en toont elke keer de verwachte resultaten. | De Python-implementatie werkt voor het grootste gedeelte van de simulatie, maar faalt in bepaalde scenario's of de agent vertoont af en toe onverwacht gedrag, of de simulatie is niet 100% reproduceerbaar. | De Python-implementatie is rommelig en presteert niet zoals verwacht. De agent faalt vaak of vertoont voor het grootste deel onverwacht gedrag, of de simulatie is bijna nooit reproduceerbaar. | De Python-implementatie werkt nauwelijks of helemaal niet.                                                           |\n",
    "| **Validatie en vergelijking** | De simulatie wordt getest met realistische scenario's en de prestaties worden grondig geanalyseerd. De resultaten van deze analyse worden duidelijk gevisualiseerd. | Er zijn een behoorlijk aantal tests uitgevoerd, maar de testcases zouden uitgebreider kunnen zijn en de analyse van de resultaten zou diepgaander kunnen zijn.           | Er is een zeer beperkt aantal testen uitgevoerd of de resultaten zijn niet op een bevredigend niveau geanalyseerd en gevisualiseerd. | Er is nauwelijks tot geen testing gedaan.                                                                           |\n",
    "| **Rapporteren**            | Het rapport is helder en goed gestructureerd. De methodologie is goed uitgelegd.                                                                                      | Het rapport is bevredigend, maar het is niet goed gestructureerd en uitgelegd.                                                                                          | Het rapport is rommelig en er ontbreken belangrijke details.                                                                      | Het rapport is onbevredigend, onjuist of afwezig.                                                                    |\n"
   ]
  },
  {
   "cell_type": "markdown",
   "id": "5ff75b80",
   "metadata": {},
   "source": []
  }
 ],
 "metadata": {
  "kernelspec": {
   "display_name": ".venv",
   "language": "python",
   "name": "python3"
  },
  "language_info": {
   "codemirror_mode": {
    "name": "ipython",
    "version": 3
   },
   "file_extension": ".py",
   "mimetype": "text/x-python",
   "name": "python",
   "nbconvert_exporter": "python",
   "pygments_lexer": "ipython3",
   "version": "3.10.0"
  }
 },
 "nbformat": 4,
 "nbformat_minor": 5
}
