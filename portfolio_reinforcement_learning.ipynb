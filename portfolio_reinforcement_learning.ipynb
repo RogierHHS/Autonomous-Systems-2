{
 "cells": [
  {
   "cell_type": "markdown",
   "id": "ab138be1",
   "metadata": {},
   "source": [
    "<div style=\"background-color:LightBlue; text-align:center; padding:20px;\">\n",
    "    <h2 style=\"color:black; font-family: Verdana, sans-serif;\"><strong>Reinforcement Learning Project - ViZ Doom</strong></h2>\n",
    "    <p style=\"font-size: 14px; color: black; font-family: Verdana, sans-serif;\"> \n",
    "        <table style=\"margin: auto; border-collapse: collapse; color: black;\">\n",
    "            <tr>\n",
    "                <th style=\"border: 0;\">Names</th>\n",
    "                <th style=\"border: 0;\">GitHub Username</th>\n",
    "            </tr>\n",
    "            <tr>\n",
    "                <td style=\"border: 0;\">Rogier Gernaat</td>\n",
    "                <td style=\"border: 0;\">RogierHHS</td>\n",
    "            </tr>\n",
    "            <tr>\n",
    "                <td style=\"border: 0;\">Daan Eising</td>\n",
    "                <td style=\"border: 0;\">DaanEising</td>\n",
    "            </tr>\n",
    "            <tr>\n",
    "                <td style=\"border: 0;\">Julia Boschman</td>\n",
    "                <td style=\"border: 0;\">JuliaBoschman</td>\n",
    "            </tr>\n",
    "            <tr>\n",
    "                <td style=\"border: 0;\">Jort Kankerhoek</td>\n",
    "                <td style=\"border: 0;\">Homoboi</td>\n",
    "            </tr>\n",
    "        </table>\n",
    "    </p>\n",
    "</div>\n",
    "\n",
    "<div style=\"display: flex; justify-content: center; align-items: center; margin-top: 10px;\">\n",
    "    <img src=\"Doomski.png/\" alt=\"Doomski.png\" style=\"width: 1000px; height: auto;\">\n",
    "</div>\n"
   ]
  },
  {
   "cell_type": "markdown",
   "id": "576e3777",
   "metadata": {},
   "source": [
    "- ***Docent***: Vikram Radhakrishnan\n",
    "- ***Datum***: 08-04-2025"
   ]
  },
  {
   "cell_type": "markdown",
   "id": "686185e3",
   "metadata": {},
   "source": [
    "\n",
    "---\n",
    "<div style=\"background-color:LightBlue; text-align:center; vertical-align:middle; padding:50px 0; margin-top:5px; margin-bottom:5px\">\n",
    "    <h2 id=\"eda-title\" style=\"color:black; font-family: Verdana, sans-serif; font-size: 25px;\"><strong> Inhoudsopgave </strong></h2>\n",
    "</div>"
   ]
  },
  {
   "cell_type": "markdown",
   "id": "8e459bee",
   "metadata": {},
   "source": [
    "\n",
    "\n",
    "1. [H1: Inleiding](#1.0)\n",
    "    - [&sect;1.1: Imports](#1.1)\n",
    "2. [H2: Use Case](#2.0)\n",
    "    - [&sect;2.1: Kiezen van Use Case](#2.1)\n",
    "    - [&sect;2.2: Probleemdefinitie en Doelstelling](#2.2)\n",
    "3. [H3: Ontwerp en Implementatie van het RL-model](#3.0)\n",
    "    - [&sect;3.1: Ontwikkelen Baseline strategie](#3.1)\n",
    "    - [&sect;3.2: Implementeren van een algoritme](#3.2)\n",
    "    - [&sect;3.3: Experimenteer met hyperparameters](#3.3)\n",
    "    - [&sect;3.4: Training](#3.4)\n",
    "4. [H4: Valideer en Vergelijk](#4.0)\n",
    "    - [&sect;4.1: Vergelijken met minimaal één baseline](#4.1)\n",
    "    - [&sect;4.2: Analiseren en Visualiseren van Resultaten](#4.2)\n",
    "6. [H5: Beschrijf je werk (Rapport)](#5.0)\n",
    "    - [&sect;6.1: Probleemstelling](#5.1)\n",
    "    - [&sect;6.2: Methodologie](#5.2)\n",
    "    - [&sect;6.3: Resultaten](#5.3)\n",
    "    - [&sect;6.4: Reflectie](#5.4)\n",
    "7. [H6: Literatuurlijst](#6.0)\n",
    "8. [H7: Beoordelingscriteria](#7.0)\n"
   ]
  },
  {
   "cell_type": "markdown",
   "id": "dd6145ef",
   "metadata": {},
   "source": [
    "\n",
    "---\n",
    "<div style=\"background-color:LightBlue; text-align:center; vertical-align:middle; padding:50px 0; margin-top:5px; margin-bottom:5px\">\n",
    "    <h2 id=\"eda-title\" style=\"color:black; font-family: Verdana, sans-serif; font-size: 25px;\"><strong>H1: Inleiding </strong></h2>\n",
    "</div>"
   ]
  },
  {
   "cell_type": "markdown",
   "id": "c3e9c657",
   "metadata": {},
   "source": [
    "<a name='1.1'></a>\n",
    "<h3>&sect;1.1: Imports</h3>"
   ]
  },
  {
   "cell_type": "code",
   "execution_count": null,
   "id": "f1b21df6",
   "metadata": {},
   "outputs": [],
   "source": [
    "from vizdoom import *\n",
    "from vizdoom import DoomGame, Mode\n",
    "import random\n",
    "import time"
   ]
  },
  {
   "cell_type": "code",
   "execution_count": null,
   "id": "0cb42994",
   "metadata": {},
   "outputs": [],
   "source": [
    "!pip install vizdoom"
   ]
  },
  {
   "cell_type": "code",
   "execution_count": null,
   "id": "a2860f00",
   "metadata": {},
   "outputs": [],
   "source": [
    "!cd github & git clone https://github.com/mwydmuch/ViZDoom.git"
   ]
  },
  {
   "cell_type": "markdown",
   "id": "1364cbba",
   "metadata": {},
   "source": [
    "\n",
    "---\n",
    "<div style=\"background-color:LightBlue; text-align:center; vertical-align:middle; padding:50px 0; margin-top:5px; margin-bottom:5px\">\n",
    "    <h2 id=\"eda-title\" style=\"color:black; font-family: Verdana, sans-serif; font-size: 25px;\"><strong>H2: Use Case </strong></h2>\n",
    "</div>\n",
    "\n"
   ]
  },
  {
   "cell_type": "markdown",
   "id": "9d3d9114",
   "metadata": {},
   "source": [
    "<a name='2.1'></a>\n",
    "<h3>&sect;2.1: Kiezen van Use Case</h3>"
   ]
  },
  {
   "cell_type": "markdown",
   "id": "083fbc33",
   "metadata": {},
   "source": [
    "<a name='2.2'></a>\n",
    "<h3>&sect;2.2: Probleemdefinitie en Doelstelling</h3>"
   ]
  },
  {
   "cell_type": "markdown",
   "id": "beb7bd73",
   "metadata": {},
   "source": [
    "\n",
    "---\n",
    "<div style=\"background-color:LightBlue; text-align:center; vertical-align:middle; padding:50px 0; margin-top:5px; margin-bottom:5px\">\n",
    "    <h2 id=\"eda-title\" style=\"color:black; font-family: Verdana, sans-serif; font-size: 25px;\"><strong> H3: Ontwerp en Implementatie </strong></h2>\n",
    "</div>"
   ]
  },
  {
   "cell_type": "markdown",
   "id": "ad0cdf2f",
   "metadata": {},
   "source": [
    "<a name='3.1'></a>\n",
    "<h3>&sect;3.1: Ontwikkelen Baseline Stategie</h3>"
   ]
  },
  {
   "cell_type": "markdown",
   "id": "8be485d5",
   "metadata": {},
   "source": [
    "VizDoom inladen (Als je een python versie hoger dan 3.11 gebruikt krijg je misschien een foutmelding tijdens het installeren van de package)"
   ]
  },
  {
   "cell_type": "markdown",
   "id": "0d52bc60",
   "metadata": {},
   "source": []
  },
  {
   "cell_type": "code",
   "execution_count": null,
   "id": "a07d8bdf",
   "metadata": {},
   "outputs": [
    {
     "name": "stdout",
     "output_type": "stream",
     "text": [
      "Score: 95.0\n"
     ]
    }
   ],
   "source": [
    "game = DoomGame()\n",
    "game.load_config(\"ViZDoom/scenarios/basic.cfg\")  # laadt de basisconfiguratie incl. basic.wad\n",
    "game.set_window_visible(True)           # optioneel: render de gamewindow\n",
    "game.init()\n",
    "\n",
    "actions = [[1,0,0],  # naar links\n",
    "           [0,1,0],  # naar rechts\n",
    "           [0,0,1]]  # schieten\n",
    "\n",
    "# Uitvoeren van 1 episode met random acties\n",
    "game.new_episode()\n",
    "while not game.is_episode_finished():\n",
    "    state = game.get_state()              # huidige toestand (beeld & variabelen)\n",
    "    reward = game.make_action(random.choice(actions))\n",
    "    # ... (hier kun je bijv. je RL-model aansturen i.p.v. random)\n",
    "score = game.get_total_reward()\n",
    "print(\"Score:\", score)\n",
    "game.close()\n"
   ]
  },
  {
   "cell_type": "markdown",
   "id": "bdb8925b",
   "metadata": {},
   "source": [
    "<a name='3.1'></a>\n",
    "<h3>&sect;3.2: Implementeren van een Algoritme</h3>"
   ]
  },
  {
   "cell_type": "markdown",
   "id": "e052efe5",
   "metadata": {},
   "source": [
    "<a name='3.3'></a>\n",
    "<h3>&sect;3.3: Experimenteren met hyperparameters</h3>"
   ]
  },
  {
   "cell_type": "markdown",
   "id": "5ec0263e",
   "metadata": {},
   "source": [
    "<a name='3.4'></a>\n",
    "<h3>&sect;3.4: Training</h3>"
   ]
  },
  {
   "cell_type": "markdown",
   "id": "6df3078c",
   "metadata": {},
   "source": [
    "\n",
    "---\n",
    "<div style=\"background-color:LightBlue; text-align:center; vertical-align:middle; padding:50px 0; margin-top:5px; margin-bottom:5px\">\n",
    "    <h2 id=\"eda-title\" style=\"color:black; font-family: Verdana, sans-serif; font-size: 25px;\"><strong> H4: Valideer en Vergelijk </strong></h2>\n",
    "</div>"
   ]
  },
  {
   "cell_type": "markdown",
   "id": "ddcdf2f7",
   "metadata": {},
   "source": [
    "<a name='4.1'></a>\n",
    "<h3>&sect;4.1 Vergelijken met minimaal één baseline</h3>"
   ]
  },
  {
   "cell_type": "markdown",
   "id": "02ffabfe",
   "metadata": {},
   "source": [
    "<a name='4.2'></a>\n",
    "<h3>&sect;4.2: Analiseren en Visualiseren van Resultaten </h3>"
   ]
  },
  {
   "cell_type": "markdown",
   "id": "13804ddc",
   "metadata": {},
   "source": [
    "\n",
    "---\n",
    "<div style=\"background-color:LightBlue; text-align:center; vertical-align:middle; padding:50px 0; margin-top:5px; margin-bottom:5px\">\n",
    "    <h2 id=\"eda-title\" style=\"color:black; font-family: Verdana, sans-serif; font-size: 25px;\"><strong> H5: Beschrijf je Werk (Rapporteren) </strong></h2>\n",
    "</div>"
   ]
  },
  {
   "cell_type": "markdown",
   "id": "3f650862",
   "metadata": {},
   "source": [
    "<a name='5.1'></a>\n",
    "<h3>&sect;5.1: Probleemstelling</h3>"
   ]
  },
  {
   "cell_type": "markdown",
   "id": "138c1f76",
   "metadata": {},
   "source": [
    "<a name='5.2'></a>\n",
    "<h3>&sect;5.2: Methodologie</h3>"
   ]
  },
  {
   "cell_type": "markdown",
   "id": "a3a39761",
   "metadata": {},
   "source": [
    "<a name='5.3'></a>\n",
    "<h3>&sect;5.3: Resultaten</h3>"
   ]
  },
  {
   "cell_type": "markdown",
   "id": "ce017729",
   "metadata": {},
   "source": [
    "<a name='5.4'></a>\n",
    "<h3>&sect;5.4: Reflectie</h3>"
   ]
  },
  {
   "cell_type": "markdown",
   "id": "d8c4f2b9",
   "metadata": {},
   "source": [
    "\n",
    "---\n",
    "<div style=\"background-color:LightBlue; text-align:center; vertical-align:middle; padding:50px 0; margin-top:5px; margin-bottom:5px\">\n",
    "    <h2 id=\"eda-title\" style=\"color:black; font-family: Verdana, sans-serif; font-size: 25px;\"><strong> H6: Literatuurlijst </strong></h2>\n",
    "</div>"
   ]
  },
  {
   "cell_type": "markdown",
   "id": "6c120a0e",
   "metadata": {},
   "source": [
    "\n",
    "---\n",
    "<div style=\"background-color:LightBlue; text-align:center; vertical-align:middle; padding:50px 0; margin-top:5px; margin-bottom:5px\">\n",
    "    <h2 id=\"eda-title\" style=\"color:black; font-family: Verdana, sans-serif; font-size: 25px;\"><strong> H7: Beoordelingscriteria </strong></h2>\n",
    "</div>"
   ]
  },
  {
   "cell_type": "markdown",
   "id": "b43a4caf",
   "metadata": {},
   "source": [
    "| **Criteria**                | **Level 4 (5p)**                                                                                                                                                       | **Level 3 (3p)**                                                                                                                                                        | **Level 2 (2p)**                                                                                                                                                       | **Level 1 (0p)**                                                                                                      |\n",
    "|----------------------------|------------------------------------------------------------------------------------------------------------------------------------------------------------------------|-------------------------------------------------------------------------------------------------------------------------------------------------------------------------|------------------------------------------------------------------------------------------------------------------------------------------------------------------------|-----------------------------------------------------------------------------------------------------------------------|\n",
    "| **Use-case kiezen**        | De gekozen use-case is creatief, de toepassing is realistisch met duidelijke meerwaarde van RL. Overtuigende motivatie voor RL wordt gegeven.                          | De use-case is creatief en geschikt voor RL en het probleem is goed gedefinieerd, maar de argumentatie is beperkt of vergelijkt de RL benadering niet met andere benaderingen. | De use-case is praktisch maar weinig innovatief, of er wordt beperkte analyse van de meerwaarde van RL.                          | Triviale of irrelevante use-case, die niet geschikt is voor RL. Weinig of geen argumentatie gegeven.                 |\n",
    "| **Begrip van RL**          | Er wordt een uitgebreide uitleg gegeven van het gekozen RL-algoritme.                                                                                                 | Er is sprake van een basiskennis van het RL-algoritme, maar de uitleg is beperkt of niet gedetailleerd genoeg.                                                         | Oppervlakkige uitleg (bv. de agent leert een hogere reward te krijgen) zonder verdere uitwerking. Kleine fouten in de uitleg.    | Volledig verkeerde, onduidelijke of ontbrekende uitleg.                                                              |\n",
    "| **Implementatie**          | De Python-implementatie werkt volledig zoals verwacht. De agent leert op een slimme en efficiënte manier door de omgeving te navigeren. De simulatie is 100% reproduceerbaar en toont elke keer de verwachte resultaten. | De Python-implementatie werkt voor het grootste gedeelte van de simulatie, maar faalt in bepaalde scenario's of de agent vertoont af en toe onverwacht gedrag, of de simulatie is niet 100% reproduceerbaar. | De Python-implementatie is rommelig en presteert niet zoals verwacht. De agent faalt vaak of vertoont voor het grootste deel onverwacht gedrag, of de simulatie is bijna nooit reproduceerbaar. | De Python-implementatie werkt nauwelijks of helemaal niet.                                                           |\n",
    "| **Validatie en vergelijking** | De simulatie wordt getest met realistische scenario's en de prestaties worden grondig geanalyseerd. De resultaten van deze analyse worden duidelijk gevisualiseerd. | Er zijn een behoorlijk aantal tests uitgevoerd, maar de testcases zouden uitgebreider kunnen zijn en de analyse van de resultaten zou diepgaander kunnen zijn.           | Er is een zeer beperkt aantal testen uitgevoerd of de resultaten zijn niet op een bevredigend niveau geanalyseerd en gevisualiseerd. | Er is nauwelijks tot geen testing gedaan.                                                                           |\n",
    "| **Rapporteren**            | Het rapport is helder en goed gestructureerd. De methodologie is goed uitgelegd.                                                                                      | Het rapport is bevredigend, maar het is niet goed gestructureerd en uitgelegd.                                                                                          | Het rapport is rommelig en er ontbreken belangrijke details.                                                                      | Het rapport is onbevredigend, onjuist of afwezig.                                                                    |\n"
   ]
  },
  {
   "cell_type": "markdown",
   "id": "5ff75b80",
   "metadata": {},
   "source": []
  }
 ],
 "metadata": {
  "kernelspec": {
   "display_name": ".venv",
   "language": "python",
   "name": "python3"
  },
  "language_info": {
   "codemirror_mode": {
    "name": "ipython",
    "version": 3
   },
   "file_extension": ".py",
   "mimetype": "text/x-python",
   "name": "python",
   "nbconvert_exporter": "python",
   "pygments_lexer": "ipython3",
   "version": "3.10.0"
  }
 },
 "nbformat": 4,
 "nbformat_minor": 5
}
