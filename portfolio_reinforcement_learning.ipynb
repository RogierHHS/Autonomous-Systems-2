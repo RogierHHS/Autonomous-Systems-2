{
 "cells": [
  {
   "cell_type": "markdown",
   "id": "ab138be1",
   "metadata": {},
   "source": [
    "<div style=\"background-color:LightBlue; text-align:center; padding:20px;\">\n",
    "    <h2 style=\"color:black; font-family: Verdana, sans-serif;\"><strong>Reinforcement Learning Project - ViZ Doom</strong></h2>\n",
    "    <p style=\"font-size: 14px; color: black; font-family: Verdana, sans-serif;\"> \n",
    "        <table style=\"margin: auto; border-collapse: collapse; color: black;\">\n",
    "            <tr>\n",
    "                <th style=\"border: 0;\">Names</th>\n",
    "                <th style=\"border: 0;\">GitHub Username</th>\n",
    "            </tr>\n",
    "            <tr>\n",
    "                <td style=\"border: 0;\">Rogier Gernaat</td>\n",
    "                <td style=\"border: 0;\">RogierHHS</td>\n",
    "            </tr>\n",
    "            <tr>\n",
    "                <td style=\"border: 0;\">Daan Eising</td>\n",
    "                <td style=\"border: 0;\">GitHubUsername1</td>\n",
    "            </tr>\n",
    "            <tr>\n",
    "                <td style=\"border: 0;\">Julia Boschman</td>\n",
    "                <td style=\"border: 0;\">GitHubUsername2</td>\n",
    "            </tr>\n",
    "            <tr>\n",
    "                <td style=\"border: 0;\">Jort Kankerhoek</td>\n",
    "                <td style=\"border: 0;\">GitHubUsername3</td>\n",
    "            </tr>\n",
    "        </table>\n",
    "    </p>\n",
    "</div>\n",
    "\n",
    "<div style=\"display: flex; justify-content: center; align-items: center; margin-top: 10px;\">\n",
    "    <img src=\"photo/\" alt=\" photo needs to be added\" style=\"width: 1000px; height: auto;\">\n",
    "</div>\n"
   ]
  },
  {
   "cell_type": "markdown",
   "id": "576e3777",
   "metadata": {},
   "source": [
    "- Docent: Vikram Radhakrishnan\n",
    "- Datum: 08-04-2025"
   ]
  },
  {
   "cell_type": "markdown",
   "id": "8e459bee",
   "metadata": {},
   "source": [
    "\n",
    "---\n",
    "<div style=\"background-color:LightBlue; text-align:center; vertical-align:middle; padding:50px 0; margin-top:5px; margin-bottom:5px\">\n",
    "    <h2 id=\"eda-title\" style=\"color:black; font-family: Verdana, sans-serif; font-size: 25px;\"><strong> Inhoudsopgave </strong></h2>\n",
    "</div>\n",
    "<ul style=\"padding: 0; list-style: none;\">\n",
    "    <li style=\"text-align: center;\"><a href=\"#1.0\">Hoofdstuk 1: Het Project (Use Case)</a></li>\n",
    "    <li style=\"text-align: center;\"><a href=\"#2.0\">Hoofdstuk 2: Ontwerp en Implementatie</a></li>\n",
    "    <li style=\"text-align: center;\"><a href=\"#3.0\">Hoofdstuk 3: Valideer en Vergelijk</a></li>\n",
    "    <li style=\"text-align: center;\"><a href=\"#4.0\">Hoofdstuk 4: Beschrijf je Werk</a></li>\n",
    "    -\n",
    "    <li style=\"text-align: center;\"><a href=\"#5.0\">Literatuurlijst</a></li>\n",
    "</ul>\n"
   ]
  },
  {
   "cell_type": "markdown",
   "id": "1364cbba",
   "metadata": {},
   "source": [
    "\n",
    "---\n",
    "<div style=\"background-color:LightBlue; text-align:center; vertical-align:middle; padding:50px 0; margin-top:5px; margin-bottom:5px\">\n",
    "    <h2 id=\"eda-title\" style=\"color:black; font-family: Verdana, sans-serif; font-size: 25px;\"><strong> Hoofdstuk 1: Het project (Use Case) </strong></h2>\n",
    "</div>\n",
    "\n",
    "### Context en Doel\n",
    "Dit project richt zich op het ontwikkelen van een Reinforcement Learning (RL) model binnen de VizDoom-omgeving. Het doel is om een agent te trainen die efficiënt leert navigeren en gevechten aan te gaan in de Doom-omgeving.\n",
    "\n",
    "### Use Case\n",
    "VizDoom biedt een uitdagende omgeving voor visuele leermodellen, omdat de agent gebruik maakt van visuele input om beslissingen te nemen. RL is geschikt omdat het leert door interactie met de omgeving in plaats van statische gegevens.\n",
    "\n",
    "### Probleemstelling\n",
    "Hoe kunnen we een RL-agent trainen om optimaal te presteren in een complexe visuele omgeving zoals VizDoom?\n"
   ]
  },
  {
   "cell_type": "markdown",
   "id": "beb7bd73",
   "metadata": {},
   "source": [
    "\n",
    "---\n",
    "<div style=\"background-color:LightBlue; text-align:center; vertical-align:middle; padding:50px 0; margin-top:5px; margin-bottom:5px\">\n",
    "    <h2 id=\"eda-title\" style=\"color:black; font-family: Verdana, sans-serif; font-size: 25px;\"><strong> Hoofdstuk 2: Ontwerp en Implementatie </strong></h2>\n",
    "</div>"
   ]
  },
  {
   "cell_type": "markdown",
   "id": "6df3078c",
   "metadata": {},
   "source": [
    "\n",
    "---\n",
    "<div style=\"background-color:LightBlue; text-align:center; vertical-align:middle; padding:50px 0; margin-top:5px; margin-bottom:5px\">\n",
    "    <h2 id=\"eda-title\" style=\"color:black; font-family: Verdana, sans-serif; font-size: 25px;\"><strong> Hoofdstuk 3: Valideer en Vergelijk </strong></h2>\n",
    "</div>"
   ]
  },
  {
   "cell_type": "markdown",
   "id": "13804ddc",
   "metadata": {},
   "source": [
    "\n",
    "---\n",
    "<div style=\"background-color:LightBlue; text-align:center; vertical-align:middle; padding:50px 0; margin-top:5px; margin-bottom:5px\">\n",
    "    <h2 id=\"eda-title\" style=\"color:black; font-family: Verdana, sans-serif; font-size: 25px;\"><strong> Hoofdstuk 4: Beschrijf je Werk </strong></h2>\n",
    "</div>"
   ]
  },
  {
   "cell_type": "markdown",
   "id": "d8c4f2b9",
   "metadata": {},
   "source": [
    "\n",
    "---\n",
    "<div style=\"background-color:LightBlue; text-align:center; vertical-align:middle; padding:50px 0; margin-top:5px; margin-bottom:5px\">\n",
    "    <h2 id=\"eda-title\" style=\"color:black; font-family: Verdana, sans-serif; font-size: 25px;\"><strong> Literatuurlijst </strong></h2>\n",
    "</div>"
   ]
  },
  {
   "cell_type": "markdown",
   "id": "6c120a0e",
   "metadata": {},
   "source": []
  }
 ],
 "metadata": {
  "language_info": {
   "name": "python"
  }
 },
 "nbformat": 4,
 "nbformat_minor": 5
}
