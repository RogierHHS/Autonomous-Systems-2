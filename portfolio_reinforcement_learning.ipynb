{
 "cells": [
  {
   "cell_type": "markdown",
   "id": "ab138be1",
   "metadata": {},
   "source": [
    "<div style=\"background-color:LightBlue; text-align:center; padding:20px;\">\n",
    "    <h2 style=\"color:black; font-family: Verdana, sans-serif;\"><strong>Reinforcement Learning Project - ViZ Doom</strong></h2>\n",
    "    <p style=\"font-size: 14px; color: black; font-family: Verdana, sans-serif;\"> \n",
    "        <table style=\"margin: auto; border-collapse: collapse; color: black;\">\n",
    "            <tr>\n",
    "                <th style=\"border: 0;\">Names</th>\n",
    "                <th style=\"border: 0;\">GitHub Username</th>\n",
    "            </tr>\n",
    "            <tr>\n",
    "                <td style=\"border: 0;\">Rogier Gernaat</td>\n",
    "                <td style=\"border: 0;\">RogierHHS</td>\n",
    "            </tr>\n",
    "            <tr>\n",
    "                <td style=\"border: 0;\">Daan Eising</td>\n",
    "                <td style=\"border: 0;\">DaanEising</td>\n",
    "            </tr>\n",
    "            <tr>\n",
    "                <td style=\"border: 0;\">Julia Boschman</td>\n",
    "                <td style=\"border: 0;\">JuliaBoschman</td>\n",
    "            </tr>\n",
    "            <tr>\n",
    "                <td style=\"border: 0;\">Jort dihhhoek</td>\n",
    "                <td style=\"border: 0;\">Homoboi-kankerboi</td>\n",
    "            </tr>\n",
    "        </table>\n",
    "    </p></div>\n",
    "\n",
    "<div style=\"display: flex; justify-content: center; align-items: center; margin-top: 10px;\">\n",
    "    <img src=\"Overige bestanden\\Doomski.png\" alt=\"Doomski.png\" style=\"width: 1000px; height: auto;\">\n",
    "</div>\n"
   ]
  },
  {
   "cell_type": "markdown",
   "id": "576e3777",
   "metadata": {},
   "source": [
    "- ***Docent***: Vikram Radhakrishnan\n",
    "- ***Datum***: 08-04-2025"
   ]
  },
  {
   "cell_type": "markdown",
   "id": "686185e3",
   "metadata": {},
   "source": [
    "\n",
    "---\n",
    "<div style=\"background-color:LightBlue; text-align:center; vertical-align:middle; padding:50px 0; margin-top:5px; margin-bottom:5px\">\n",
    "    <h2 id=\"eda-title\" style=\"color:black; font-family: Verdana, sans-serif; font-size: 25px;\"><strong> Inhoudsopgave </strong></h2>\n",
    "</div>"
   ]
  },
  {
   "cell_type": "markdown",
   "id": "8e459bee",
   "metadata": {},
   "source": [
    "\n",
    "\n",
    "1. [H1: Inleiding](#1.0)\n",
    "    - [&sect;1.1: Imports](#1.1)\n",
    "2. [H2: Use Case](#2.0)\n",
    "    - [&sect;2.1: Kiezen van Use Case](#2.1)\n",
    "    - [&sect;2.2: Probleemdefinitie](#2.2)\n",
    "    - [&sect;2.3: Doelstelling](#2.3)\n",
    "3. [H3: Ontwerp en Implementatie van het RL-model](#3.0)\n",
    "    - [&sect;3.1: Ontwikkelen Baseline strategie](#3.1)\n",
    "    - [&sect;3.2: Implementeren van een algoritme](#3.2)\n",
    "    - [&sect;3.3: Experimenteer met hyperparameters](#3.3)\n",
    "    - [&sect;3.4: Training](#3.4)\n",
    "4. [H4: Valideer en Vergelijk](#4.0)\n",
    "    - [&sect;4.1: Vergelijken met minimaal één baseline](#4.1)\n",
    "    - [&sect;4.2: Analiseren en Visualiseren van Resultaten](#4.2)\n",
    "6. [H5: Beschrijf je werk (Rapport)](#5.0)\n",
    "    - [&sect;6.1: Probleemstelling](#5.1)\n",
    "    - [&sect;6.2: Methodologie](#5.2)\n",
    "    - [&sect;6.3: Resultaten](#5.3)\n",
    "    - [&sect;6.4: Reflectie](#5.4)\n",
    "7. [H6: Literatuurlijst](#6.0)\n",
    "8. [H7: Beoordelingscriteria](#7.0)\n"
   ]
  },
  {
   "cell_type": "markdown",
   "id": "dd6145ef",
   "metadata": {},
   "source": [
    "\n",
    "---\n",
    "<div style=\"background-color:LightBlue; text-align:center; vertical-align:middle; padding:50px 0; margin-top:5px; margin-bottom:5px\">\n",
    "    <h2 id=\"eda-title\" style=\"color:black; font-family: Verdana, sans-serif; font-size: 25px;\"><strong>H1: Inleiding </strong></h2>\n",
    "</div>"
   ]
  },
  {
   "cell_type": "markdown",
   "id": "c3e9c657",
   "metadata": {},
   "source": [
    "<a name='1.1'></a>\n",
    "<h3>&sect;1.1: Imports</h3>"
   ]
  },
  {
   "cell_type": "markdown",
   "id": "6e2ee07e",
   "metadata": {},
   "source": [
    "<div style=\"background-color:white; color:black; padding: 10px;\">\n",
    "    <strong>Importeren van de library's</strong>\n",
    "</div>\n",
    "\n"
   ]
  },
  {
   "cell_type": "code",
   "execution_count": 1,
   "id": "f1b21df6",
   "metadata": {},
   "outputs": [],
   "source": [
    "#Librarys\n",
    "import cv2\n",
    "import random\n",
    "import time\n",
    "import sys\n",
    "import os\n",
    "import numpy as np\n",
    "import pandas as pd\n",
    "import matplotlib.pyplot as plt\n",
    "from collections import deque\n",
    "from skimage import transform\n",
    "import tensorflow as tf\n",
    "#Vizdoom\n",
    "from vizdoom import *\n",
    "from vizdoom import DoomGame, Mode\n",
    "\n",
    "#imports uit .py bestanden\n",
    "sys.path.append(os.path.abspath(\"SRC\"))\n",
    "\n",
    "from environment import VizDoomEnvironment\n",
    "from baseline import random_baseline\n",
    "from utils import collect_frames_with_actions\n",
    "from utils import show_shoot_frames\n",
    "from utils import stack_frames\n",
    "from utils import create_environment\n",
    "from agent import QLearningAgent\n",
    "from training import train_q_learning\n",
    "from deep_q_model import DQNetwork, Memory\n",
    "\n",
    "\n"
   ]
  },
  {
   "cell_type": "code",
   "execution_count": 2,
   "id": "0cb42994",
   "metadata": {},
   "outputs": [
    {
     "name": "stdout",
     "output_type": "stream",
     "text": [
      "Requirement already satisfied: vizdoom in c:\\users\\akers\\anaconda3\\envs\\tf\\lib\\site-packages (1.2.4)\n",
      "Requirement already satisfied: numpy in c:\\users\\akers\\anaconda3\\envs\\tf\\lib\\site-packages (from vizdoom) (1.26.4)\n",
      "Requirement already satisfied: gymnasium>=0.28.0 in c:\\users\\akers\\anaconda3\\envs\\tf\\lib\\site-packages (from vizdoom) (1.1.1)\n",
      "Requirement already satisfied: pygame>=2.1.3 in c:\\users\\akers\\anaconda3\\envs\\tf\\lib\\site-packages (from vizdoom) (2.6.1)\n",
      "Requirement already satisfied: cloudpickle>=1.2.0 in c:\\users\\akers\\anaconda3\\envs\\tf\\lib\\site-packages (from gymnasium>=0.28.0->vizdoom) (3.0.0)\n",
      "Requirement already satisfied: importlib-metadata>=4.8.0 in c:\\users\\akers\\anaconda3\\envs\\tf\\lib\\site-packages (from gymnasium>=0.28.0->vizdoom) (7.1.0)\n",
      "Requirement already satisfied: typing-extensions>=4.3.0 in c:\\users\\akers\\anaconda3\\envs\\tf\\lib\\site-packages (from gymnasium>=0.28.0->vizdoom) (4.11.0)\n",
      "Requirement already satisfied: farama-notifications>=0.0.1 in c:\\users\\akers\\anaconda3\\envs\\tf\\lib\\site-packages (from gymnasium>=0.28.0->vizdoom) (0.0.4)\n",
      "Requirement already satisfied: zipp>=0.5 in c:\\users\\akers\\anaconda3\\envs\\tf\\lib\\site-packages (from importlib-metadata>=4.8.0->gymnasium>=0.28.0->vizdoom) (3.17.0)\n"
     ]
    }
   ],
   "source": [
    "!pip install vizdoom"
   ]
  },
  {
   "cell_type": "code",
   "execution_count": 3,
   "id": "a2860f00",
   "metadata": {},
   "outputs": [
    {
     "name": "stderr",
     "output_type": "stream",
     "text": [
      "The system cannot find the path specified.\n",
      "fatal: destination path 'ViZDoom' already exists and is not an empty directory.\n"
     ]
    }
   ],
   "source": [
    "!cd github & git clone https://github.com/mwydmuch/ViZDoom.git"
   ]
  },
  {
   "cell_type": "markdown",
   "id": "1364cbba",
   "metadata": {},
   "source": [
    "\n",
    "---\n",
    "<div style=\"background-color:LightBlue; text-align:center; vertical-align:middle; padding:50px 0; margin-top:5px; margin-bottom:5px\">\n",
    "    <h2 id=\"eda-title\" style=\"color:black; font-family: Verdana, sans-serif; font-size: 25px;\"><strong>H2: Use Case </strong></h2>\n",
    "</div>\n",
    "\n"
   ]
  },
  {
   "cell_type": "markdown",
   "id": "9d3d9114",
   "metadata": {},
   "source": [
    "<a name='2.1'></a>\n",
    "<h3>&sect;2.1: Kiezen van Use Case</h3>"
   ]
  },
  {
   "cell_type": "markdown",
   "id": "4903627b",
   "metadata": {},
   "source": [
    "### Gekozen omgeving\n",
    "\n",
    "Voor deze opdracht is gekozen voor een omgeving uit de Gymnasium-documentatie, namelijk **ViZDoom**. ViZDoom is een visueel complexe en interactieve omgeving gebaseerd op de klassieke game Doom.  \n",
    "\n",
    "In dit project starten we met het scenario `basic.cfg`, waarin een agent zich in een kamer bevindt en één vijand moet uitschakelen. De agent ontvangt **-1 reward** voor elke actie, en **+100 reward** bij het succesvol verslaan van de vijand.  \n",
    "\n",
    "Later wordt dit uitgebreid naar uitdagendere scenario's zoals `deadly_corridor.cfg`, waarin meerdere tegenstanders en gevaren aanwezig zijn.\n",
    "\n",
    "---\n",
    "\n",
    "### Waarom reinforcement learning?\n",
    "\n",
    "Reinforcement learning (RL) is bijzonder geschikt voor deze taak, om de volgende redenen:\n",
    "\n",
    "- **De agent leert via interactie**  \n",
    "  ViZDoom vereist dat de agent leert door trial-and-error, zonder vooraf bepaalde instructies. Acties zoals bewegen of schieten leiden tot beloningen, en het model leert welk gedrag effectief is.\n",
    "\n",
    "- **Geen gelabelde data beschikbaar**  \n",
    "  Anders dan bij supervised learning, zijn er geen juiste/onjuiste labels beschikbaar. Het doelgedrag moet ontdekt worden op basis van reward.\n",
    "\n",
    "- **Strategisch gedrag nodig**  \n",
    "  Bewegingen en acties moeten gecombineerd worden op basis van visuele input. Rule-based systemen schieten hier tekort, omdat de omgeving dynamisch is (zoals willekeurige spawnlocaties van vijanden).\n",
    "\n",
    "- **RL past bij het probleemtype**  \n",
    "  De ViZDoom-omgeving moedigt exploratie aan en beloont effectief gedrag. Dat is precies de reden waarom reinforcement learning hier goed bij past.\n",
    "\n",
    "---"
   ]
  },
  {
   "cell_type": "markdown",
   "id": "083fbc33",
   "metadata": {},
   "source": [
    "<a name='2.2'></a>\n",
    "<h3>&sect;2.2: Probleemdefinitie</h3>"
   ]
  },
  {
   "cell_type": "markdown",
   "id": "e22e6013",
   "metadata": {},
   "source": [
    "Reinforcement Learning (RL) heeft de afgelopen jaren veel vooruitgang laten zien bij het oplossen van problemen waarbij een computer (agent) moet leren door zelf dingen uit te proberen in een omgeving. Traditionele methodes, zoals supervised learning, zijn meestal minder geschikt voor situaties waarin de agent continu moet reageren op directe feedback en snel veranderende omstandigheden. Dit is vooral merkbaar in real-time spellen zoals VizDoom. In VizDoom moet een agent zelfstandig beslissingen nemen, reageren op onverwachte situaties, vijanden ontwijken of verslaan, en duidelijke doelen behalen in een dynamische spelomgeving.\n",
    "\n",
    "Reinforcement Learning is bijzonder geschikt voor dynamische omgevingen zoals VizDoom omdat de agent actief leert door interactie met de omgeving en directe feedback krijgt via beloningen (rewards). Dit stelt de agent in staat zich continu aan te passen aan veranderingen in het spel. De voordelen van RL ten opzichte van supervised learning en niet-AI methoden in VizDoom zijn duidelijk. Supervised learning vereist vooraf gelabelde data en kan zich moeilijk aanpassen aan onverwachte situaties, terwijl RL juist leert van eigen ervaring en zich flexibel aanpast. Niet-AI methoden zijn vaak gebaseerd op vaste regels en zijn niet in staat om zelfstandig te leren of zich snel aan te passen aan nieuwe situaties, wat juist essentieel is in dynamische spellen zoals VizDoom.\n",
    "\n",
    "Daarom willen we onderzoeken hoe een agent via RL effectief kan leren handelen in VizDoom.\n",
    "\n",
    "#### Centrale probleemstelling:\n",
    "- \"Hoe kan een Reinforcement Learning-agent effectief leren opereren en goede resultaten behalen in de dynamische en uitdagende spelomgeving van VizDoom?\""
   ]
  },
  {
   "cell_type": "markdown",
   "id": "b39157c5",
   "metadata": {},
   "source": [
    "<a name='2.2'></a>\n",
    "<h3>&sect;2.3: Doelstelling</h3>"
   ]
  },
  {
   "cell_type": "markdown",
   "id": "4b0b02e2",
   "metadata": {},
   "source": [
    "Het doel van deze opdracht is het ontwikkelen, implementeren en valideren van een Reinforcement Learning-agent die binnen de VizDoom-omgeving zelfstandig leert om optimale beslissingen te nemen en specifieke taken succesvol uit te voeren. De volgende subdoelstellingen zijn hierbij geformuleerd:\n",
    "\n",
    "1. Onderzoek en analyse:\n",
    "    - Bepaal waarom Reinforcement Learning bijzonder geschikt is voor het oplossen van problemen in dynamische omgevingen zoals VizDoom.\n",
    "    - Analyseer de voordelen van RL ten opzichte van supervised learning en niet-AI methoden specifiek in de context van VizDoom.\n",
    "\n",
    "2. Ontwerp en implementatie:\n",
    "    - Ontwerp en implementeer een baseline-strategie (bijvoorbeeld random of een eenvoudige heuristiek) om prestaties te kunnen benchmarken.\n",
    "    - Ontwikkel zelfstandig een RL-algoritme (zoals Q-learning of Sarsa) met minimale afhankelijkheid van bestaande RL-packages.\n",
    "    - Optimaliseer het geïmplementeerde RL-algoritme door systematisch te experimenteren met verschillende hyperparameters (bijvoorbeeld exploration-exploitation balans).\n",
    "\n",
    "3. Evaluatie en validatie:\n",
    "    - Vergelijk de prestaties van het ontwikkelde RL-model met de baseline-strategie door middel van heldere en reproduceerbare experimenten.\n",
    "    - Analyseer en visualiseer gedetailleerd de prestaties van het RL-model met behulp van reward-curves en andere relevante prestatie-indicatoren.\n",
    "\n",
    "Door deze doelstellingen uit te voeren, krijgen we beter inzicht in hoe Reinforcement Learning gebruikt kan worden in complexe en dynamische spelomgevingen zoals VizDoom."
   ]
  },
  {
   "cell_type": "markdown",
   "id": "beb7bd73",
   "metadata": {},
   "source": [
    "\n",
    "---\n",
    "<div style=\"background-color:LightBlue; text-align:center; vertical-align:middle; padding:50px 0; margin-top:5px; margin-bottom:5px\">\n",
    "    <h2 id=\"eda-title\" style=\"color:black; font-family: Verdana, sans-serif; font-size: 25px;\"><strong> H3: Ontwerp en Implementatie </strong></h2>\n",
    "</div>"
   ]
  },
  {
   "cell_type": "markdown",
   "id": "ce445028",
   "metadata": {},
   "source": [
    "<div style=\"background-color:white; color:black; padding: 10px;\">\n",
    "    <strong>Testen met basic.wad scenario</strong>\n",
    "</div>\n",
    "\n",
    "In deze sectie testen we of ViZDoom goed functioneert door het `basic.wad` scenario op te starten. We laten een eenvoudige agent willekeurige acties uitvoeren, zodat we kunnen controleren of de installatie werkt en hoe de omgeving reageert.\n",
    "\n",
    "---\n",
    "\n",
    "###  Waar komen de bestanden vandaan?\n",
    "\n",
    "Wanneer je ViZDoom installeert via pip en de repository op github, worden er automatisch enkele **standaard scenario’s** meegeleverd. Deze scenario's bevatten `.cfg` (configuratie) bestanden en `.wad` (level/map) bestanden, zoals:\n",
    "\n",
    "- `basic.cfg`: bevat instellingen zoals de tijdslimiet van het spel, welke acties beschikbaar zijn, hoe rewards worden toegekend, enz.\n",
    "- `basic.wad`: dit is de daadwerkelijke map/omgeving waarin het spel zich afspeelt — in dit geval één kamer met een vijand.\n",
    "\n",
    "Zorg dat je `basic.cfg` pad goed staat in je project. Meestal zitten deze bestanden in de `ViZDoom/scenarios/` map.\n",
    "\n",
    "---\n",
    "\n",
    "###  Wat doet deze test?\n",
    "\n",
    "De test start het Basic-scenario, voert een willekeurige actie uit in elk timestep, en toont de reward die de agent ontvangt. Aan het einde printen we de totale beloning.\n",
    "\n",
    "De code doorloopt dus een **volledige episode** van het spel, van begin tot eind, zonder dat de agent slimme keuzes maakt. Het is puur bedoeld als functionele test.\n",
    "\n",
    "---\n",
    "\n",
    "###  Wat zijn actions?\n",
    "\n",
    "De mogelijke acties in het Basic-scenario zijn beperkt tot:\n",
    "\n",
    "- `LEFT` (beweeg naar links)\n",
    "- `RIGHT` (beweeg naar rechts)\n",
    "- `ATTACK` (schiet)\n",
    "\n",
    "In de code worden deze acties als lijsten geschreven:\n",
    "\n",
    "```python\n",
    "[1, 0, 0]  # alleen links\n",
    "[0, 1, 0]  # alleen rechts\n",
    "[0, 0, 1]  # alleen schieten\n"
   ]
  },
  {
   "cell_type": "code",
   "execution_count": 4,
   "id": "dea21c86",
   "metadata": {},
   "outputs": [
    {
     "name": "stdout",
     "output_type": "stream",
     "text": [
      "Episode gestart...\n",
      "Reward: -1.0\n",
      "Reward: -1.0\n",
      "Reward: -1.0\n",
      "Reward: -1.0\n",
      "Reward: -1.0\n",
      "Reward: -1.0\n",
      "Reward: -1.0\n",
      "Reward: -1.0\n",
      "Reward: -1.0\n",
      "Reward: -6.0\n",
      "Reward: -1.0\n",
      "Reward: -1.0\n",
      "Reward: -1.0\n",
      "Reward: -1.0\n",
      "Reward: -1.0\n",
      "Reward: -1.0\n",
      "Reward: -1.0\n",
      "Reward: -1.0\n",
      "Reward: -1.0\n",
      "Reward: -1.0\n",
      "Reward: -1.0\n",
      "Reward: -1.0\n",
      "Reward: -1.0\n",
      "Reward: -1.0\n",
      "Reward: -1.0\n",
      "Reward: -1.0\n",
      "Reward: -1.0\n",
      "Reward: -1.0\n",
      "Reward: -1.0\n",
      "Reward: -1.0\n",
      "Reward: -1.0\n",
      "Reward: -1.0\n",
      "Reward: -1.0\n",
      "Reward: -1.0\n",
      "Reward: -6.0\n",
      "Reward: -1.0\n",
      "Reward: -1.0\n",
      "Reward: -1.0\n",
      "Reward: -1.0\n",
      "Reward: -1.0\n",
      "Reward: -1.0\n",
      "Reward: -1.0\n",
      "Reward: -1.0\n",
      "Reward: -1.0\n",
      "Reward: -1.0\n",
      "Reward: -1.0\n",
      "Reward: -1.0\n",
      "Reward: -1.0\n",
      "Reward: -1.0\n",
      "Reward: -1.0\n",
      "Reward: -1.0\n",
      "Reward: -1.0\n",
      "Reward: -1.0\n",
      "Reward: -1.0\n",
      "Reward: -1.0\n",
      "Reward: -1.0\n",
      "Reward: -6.0\n",
      "Reward: -1.0\n",
      "Reward: -1.0\n",
      "Reward: -1.0\n",
      "Reward: -1.0\n",
      "Reward: -1.0\n",
      "Reward: -1.0\n",
      "Reward: -1.0\n",
      "Reward: -1.0\n",
      "Reward: -1.0\n",
      "Reward: -1.0\n",
      "Reward: -1.0\n",
      "Reward: -1.0\n",
      "Reward: -1.0\n",
      "Reward: -1.0\n",
      "Reward: -1.0\n",
      "Reward: -1.0\n",
      "Reward: -1.0\n",
      "Reward: -1.0\n",
      "Reward: -1.0\n",
      "Reward: -1.0\n",
      "Reward: -1.0\n",
      "Reward: -1.0\n",
      "Reward: -6.0\n",
      "Reward: -1.0\n",
      "Reward: -1.0\n",
      "Reward: -1.0\n",
      "Reward: -1.0\n",
      "Reward: -1.0\n",
      "Reward: -1.0\n",
      "Reward: -1.0\n",
      "Reward: -1.0\n",
      "Reward: -1.0\n",
      "Reward: -1.0\n",
      "Reward: -1.0\n",
      "Reward: -1.0\n",
      "Reward: -1.0\n",
      "Reward: -1.0\n",
      "Reward: -1.0\n",
      "Reward: -1.0\n",
      "Reward: -1.0\n",
      "Reward: -1.0\n",
      "Reward: -6.0\n",
      "Reward: -1.0\n",
      "Reward: -1.0\n",
      "Reward: -1.0\n",
      "Reward: -1.0\n",
      "Reward: -1.0\n",
      "Reward: -1.0\n",
      "Reward: -1.0\n",
      "Reward: -1.0\n",
      "Reward: -1.0\n",
      "Reward: -1.0\n",
      "Reward: -1.0\n",
      "Reward: -1.0\n",
      "Reward: -1.0\n",
      "Reward: -1.0\n",
      "Reward: -1.0\n",
      "Reward: -1.0\n",
      "Reward: -1.0\n",
      "Reward: -1.0\n",
      "Reward: -1.0\n",
      "Reward: -1.0\n",
      "Reward: -1.0\n",
      "Reward: -6.0\n",
      "Reward: -1.0\n",
      "Reward: -1.0\n",
      "Reward: -1.0\n",
      "Reward: -1.0\n",
      "Reward: -1.0\n",
      "Reward: -1.0\n",
      "Reward: -1.0\n",
      "Reward: -1.0\n",
      "Reward: -1.0\n",
      "Reward: -1.0\n",
      "Reward: -1.0\n",
      "Reward: -1.0\n",
      "Reward: -1.0\n",
      "Reward: -6.0\n",
      "Reward: -1.0\n",
      "Reward: -1.0\n",
      "Reward: -1.0\n",
      "Reward: -1.0\n",
      "Reward: -1.0\n",
      "Reward: -1.0\n",
      "Reward: -1.0\n",
      "Reward: -1.0\n",
      "Reward: -1.0\n",
      "Reward: -1.0\n",
      "Reward: -1.0\n",
      "Reward: -1.0\n",
      "Reward: -1.0\n",
      "Reward: -6.0\n",
      "Reward: -1.0\n",
      "Reward: -1.0\n",
      "Reward: -1.0\n",
      "Reward: -1.0\n",
      "Reward: -1.0\n",
      "Reward: -1.0\n",
      "Reward: -1.0\n",
      "Reward: -1.0\n",
      "Reward: -1.0\n",
      "Reward: -1.0\n",
      "Reward: -1.0\n",
      "Reward: -1.0\n",
      "Reward: -1.0\n",
      "Reward: -6.0\n",
      "Reward: -1.0\n",
      "Reward: -1.0\n",
      "Reward: -1.0\n",
      "Reward: -1.0\n",
      "Reward: -1.0\n",
      "Reward: -1.0\n",
      "Reward: -1.0\n",
      "Reward: -1.0\n",
      "Reward: -1.0\n",
      "Reward: -1.0\n",
      "Reward: -1.0\n",
      "Reward: -1.0\n",
      "Reward: -1.0\n",
      "Reward: -1.0\n",
      "Reward: -1.0\n",
      "Reward: -1.0\n",
      "Reward: -1.0\n",
      "Reward: -1.0\n",
      "Reward: -1.0\n",
      "Reward: -1.0\n",
      "Reward: -6.0\n",
      "Reward: -1.0\n",
      "Reward: -1.0\n",
      "Reward: -1.0\n",
      "Reward: -1.0\n",
      "Reward: -1.0\n",
      "Reward: -1.0\n",
      "Reward: -1.0\n",
      "Reward: -1.0\n",
      "Reward: -1.0\n",
      "Reward: -1.0\n",
      "Reward: -1.0\n",
      "Reward: -1.0\n",
      "Reward: -1.0\n",
      "Reward: -1.0\n",
      "Reward: -1.0\n",
      "Reward: -1.0\n",
      "Reward: -1.0\n",
      "Reward: -1.0\n",
      "Reward: -6.0\n",
      "Reward: -1.0\n",
      "Reward: -1.0\n",
      "Reward: -1.0\n",
      "Reward: -1.0\n",
      "Reward: -1.0\n",
      "Reward: -1.0\n",
      "Reward: -1.0\n",
      "Reward: -1.0\n",
      "Reward: -1.0\n",
      "Reward: -1.0\n",
      "Reward: -1.0\n",
      "Reward: -1.0\n",
      "Reward: -1.0\n",
      "Reward: -1.0\n",
      "Reward: -1.0\n",
      "Reward: -1.0\n",
      "Reward: -1.0\n",
      "Reward: -1.0\n",
      "Reward: -1.0\n",
      "Reward: -6.0\n",
      "Reward: -1.0\n",
      "Reward: -1.0\n",
      "Reward: -1.0\n",
      "Reward: -1.0\n",
      "Reward: -1.0\n",
      "Reward: -1.0\n",
      "Reward: -1.0\n",
      "Reward: -1.0\n",
      "Reward: -1.0\n",
      "Reward: -1.0\n",
      "Reward: -1.0\n",
      "Reward: -1.0\n",
      "Reward: -1.0\n",
      "Reward: -6.0\n",
      "Reward: -1.0\n",
      "Reward: -1.0\n",
      "Reward: -1.0\n",
      "Reward: -1.0\n",
      "Reward: -1.0\n",
      "Reward: -1.0\n",
      "Reward: -1.0\n",
      "Reward: -1.0\n",
      "Reward: -1.0\n",
      "Reward: -1.0\n",
      "Reward: -1.0\n",
      "Reward: -1.0\n",
      "Reward: -1.0\n",
      "Reward: -1.0\n",
      "Reward: -1.0\n",
      "Reward: -1.0\n",
      "Reward: -1.0\n",
      "Reward: -1.0\n",
      "Reward: -1.0\n",
      "Reward: -1.0\n",
      "Reward: -1.0\n",
      "Reward: -6.0\n",
      "Reward: -1.0\n",
      "Reward: -1.0\n",
      "Reward: -1.0\n",
      "Reward: -1.0\n",
      "Reward: -1.0\n",
      "Reward: -1.0\n",
      "Reward: -1.0\n",
      "Reward: -1.0\n",
      "Reward: -1.0\n",
      "Reward: -1.0\n",
      "Reward: -1.0\n",
      "Reward: -1.0\n",
      "Reward: -1.0\n",
      "Reward: -1.0\n",
      "Reward: -1.0\n",
      "Reward: -1.0\n",
      "Reward: -1.0\n",
      "Reward: -1.0\n",
      "Reward: -1.0\n",
      "Reward: -6.0\n",
      "Reward: -1.0\n",
      "Reward: -1.0\n",
      "Reward: -1.0\n",
      "Reward: -1.0\n",
      "Reward: -1.0\n",
      "Reward: -1.0\n",
      "Reward: -1.0\n",
      "Reward: -1.0\n",
      "Reward: -1.0\n",
      "Reward: -1.0\n",
      "Reward: -1.0\n",
      "Reward: -1.0\n",
      "Reward: -1.0\n",
      "Reward: -1.0\n",
      "Reward: -1.0\n",
      "Reward: -1.0\n",
      "Reward: -1.0\n",
      "Reward: -1.0\n",
      "Reward: -6.0\n",
      "Reward: -1.0\n",
      "Reward: -1.0\n",
      "Totale score: -380.0\n"
     ]
    }
   ],
   "source": [
    "# Setup Doom-game\n",
    "game = DoomGame()\n",
    "game.load_config(\"ViZDoom/scenarios/basic.cfg\")  \n",
    "game.set_window_visible(True)  # Maakt het spel zichtbaar\n",
    "game.init()\n",
    "\n",
    "# Definieer toegestane acties in basic.wad: [left, right, shoot]\n",
    "actions = [[1, 0, 0],  # Left\n",
    "           [0, 1, 0],  # Right\n",
    "           [0, 0, 1]]  # Shoot\n",
    "\n",
    "# Speel één episode met random acties\n",
    "print(\"Episode gestart...\")\n",
    "game.new_episode()\n",
    "\n",
    "while not game.is_episode_finished():\n",
    "    state = game.get_state()\n",
    "    reward = game.make_action(random.choice(actions))\n",
    "    print(\"Reward:\", reward)\n",
    "    time.sleep(0)  # Vertraagt het spel om het beter te kunnen volgen\n",
    "\n",
    "print(\"Totale score:\", game.get_total_reward())\n",
    "game.close()\n"
   ]
  },
  {
   "cell_type": "markdown",
   "id": "c350903b",
   "metadata": {},
   "source": [
    "<div style=\"background-color:white; color:black; padding: 10px;\">\n",
    "    <strong>Observaties</strong>\n",
    "</div>\n",
    "\n",
    "Wat je kunt zien tijdens het uitvoeren van een episode met willekeurige acties, is dat de agent na bijna elke actie een reward van **-1.0** ontvangt. Dit betekent dat het ViZDoom-scenario zo is ingericht dat elke actie (zoals bewegen of schieten) een kleine straf oplevert. Op deze manier wordt de agent aangemoedigd om **doelgericht** te handelen, in plaats van doelloos rond te bewegen of continu te schieten.\n",
    "\n",
    "Pas op het moment dat de agent de vijand raakt (door succesvol te schieten), krijgt hij een grotere beloning van bijvoorbeeld **+100.0**. Dit verschil tussen kleine negatieve en grote positieve rewards is essentieel in reinforcement learning: het helpt de agent om te leren **wat wel en niet effectief is**.\n",
    "\n",
    "Tijdens de test zie je:\n",
    "\n",
    "- De agent beweegt of schiet → reward: -1.0\n",
    "- Als de agent de vijand raakt (per toeval) → reward: +100.0\n",
    "- Zodra de vijand is verslagen of de tijd op is → de episode eindigt\n",
    "- De totale score wordt weergegeven met `get_total_reward()` — dit is de som van alle beloningen die de agent in die episode heeft ontvangen\n",
    "\n",
    "Omdat deze agent puur willekeurige acties uitvoert, is zijn gedrag ongericht. Je zult merken dat de **totale score per episode erg varieert**, en meestal vrij laag is. Dit bevestigt dat de random agent geen strategie gebruikt\n"
   ]
  },
  {
   "cell_type": "markdown",
   "id": "ea2a8677",
   "metadata": {},
   "source": [
    "<div style=\"background-color:white; color:black; padding: 10px;\">\n",
    "    <strong>Opzetten van een zelfgemaakte ViZDoom-omgeving</strong>\n",
    "</div>\n",
    "\n",
    "In deze sectie bouwen we onze eigen environment class voor ViZDoom. Deze omgeving vormt een tussenlaag tussen onze reinforcement learning-agent en het spel. We maken een klasse aan met methodes zoals `reset()`, `step()`, `render()` en `close()` — zodat onze agent op een gestructureerde manier met de gameomgeving kan communiceren.\n",
    "\n",
    "---\n",
    "\n",
    "###  Waarom maken we een eigen RL-omgeving?\n",
    "\n",
    "In reinforcement learning werkt een agent altijd in interactie met een **omgeving**. Deze omgeving moet de agent toestaan om:\n",
    "\n",
    "- een actie te nemen,\n",
    "- feedback (reward) te ontvangen,\n",
    "- en een nieuwe toestand (state) te observeren.\n",
    "\n",
    "Door een eigen omgeving te programmeren, creëren we een **duidelijke structuur** die makkelijk herbruikbaar is. Dit maakt het eenvoudiger om:\n",
    "\n",
    "- onze eigen agent (zoals een Q-learning agent) te bouwen,\n",
    "- de training te herhalen over meerdere episodes,\n",
    "- en eventueel later andere scenario’s te integreren zonder de logica te herschrijven.\n",
    "\n",
    "Onze omgeving is **niet gebaseerd op kant-en-klare pakketten**, maar volledig handmatig geprogrammeerd. Hierdoor blijft het project binnen de richtlijnen van de opdracht.\n",
    "\n",
    "---\n",
    "\n",
    "###  Wat zit er in onze omgeving?\n",
    "\n",
    "Onze class bevat onder andere:\n",
    "\n",
    "- `__init__()`: start de game, zet de actie-ruimte en observation-space op, en bepaalt of het spel gerenderd wordt.\n",
    "- `step(action)`: voert een actie uit, geeft de reward terug, en retourneert de nieuwe toestand.\n",
    "- `reset()`: start een nieuwe episode.\n",
    "- `close()`: sluit de game netjes af.\n",
    "- `grayscale()`: converteert het raw gamebeeld naar zwart-wit en schaalt het terug naar een eenvoudiger formaat, zodat het minder geheugen/intensiteit vereist.\n",
    "\n",
    "---\n",
    "\n",
    "###  Waarom is dit nuttig voor ons project?\n",
    "\n",
    "Deze aanpak zorgt ervoor dat onze agent niet hoeft te weten **hoe ViZDoom precies werkt**. Alles wat de agent hoeft te doen, is `env.step(action)` en `env.reset()` gebruiken — en dat maakt het trainen van een RL-model overzichtelijker.\n",
    "\n",
    "Bovendien kunnen we deze omgeving makkelijk hergebruiken voor verschillende algoritmes (zoals Sarsa of Deep Q-Learning), zonder de interne werking telkens opnieuw te moeten implementeren.\n",
    "\n",
    "Tot slot: door **zelf de omgeving te bouwen**, tonen we aan dat we **begrijpen hoe de interface tussen agent en omgeving werkt** — en dat is een belangrijk leerdoel van deze opdracht.\n"
   ]
  },
  {
   "cell_type": "markdown",
   "id": "6aa0a62f",
   "metadata": {},
   "source": [
    "<div style=\"background-color:white; color:black; padding: 10px;\">\n",
    "    <strong>Testen van de environment</strong>\n",
    "</div>"
   ]
  },
  {
   "cell_type": "code",
   "execution_count": 5,
   "id": "9b2cb738",
   "metadata": {},
   "outputs": [],
   "source": [
    "env = VizDoomEnvironment(render = True, scenario = \"basic.cfg\") #Start de environment\n"
   ]
  },
  {
   "cell_type": "code",
   "execution_count": 6,
   "id": "62cead28",
   "metadata": {},
   "outputs": [
    {
     "name": "stdout",
     "output_type": "stream",
     "text": [
      "State shape: (84, 84, 1)\n"
     ]
    }
   ],
   "source": [
    "# Bekijken van de shape van de image\n",
    "state = env.reset() #Reset de environment\n",
    "\n",
    "#Krijg de shape van de image\n",
    "print(\"State shape:\", state.shape) #Print de shape van de image\n"
   ]
  },
  {
   "cell_type": "markdown",
   "id": "976ccf00",
   "metadata": {},
   "source": [
    "<div style=\"background-color:white; color:black; padding: 10px;\">\n",
    "    <strong>Observatie van een enkele stap in de omgeving</strong>\n",
    "</div>\n",
    "\n",
    "In deze observatie bekijken we wat er gebeurt wanneer we handmatig een actie uitvoeren binnen onze zelfgemaakte ViZDoom-omgeving. We gebruiken hiervoor de functie `env.step(2)`. De actie `2` staat in onze omgeving gelijk aan de actie **schieten** (`[0, 0, 1]`). \n",
    "\n",
    "De functie `step()` geeft vier waarden terug: de nieuwe state (observatie), de beloning, een boolean of de episode klaar is, en extra informatie over de toestand van het spel in dit geval de hoeveelheid ammonitie van de karakter. De output ziet er bijvoorbeeld als volgt uit:\n",
    "\n",
    "```python\n",
    "(array([[[...]]], shape=(100, 160, 1), dtype=uint8),\n",
    " -1.0,\n",
    " False,\n",
    " array([50.]))\n"
   ]
  },
  {
   "cell_type": "code",
   "execution_count": 7,
   "id": "6aee6dc5",
   "metadata": {},
   "outputs": [
    {
     "data": {
      "text/plain": [
       "(array([[[ 62],\n",
       "         [ 65],\n",
       "         [ 57],\n",
       "         ...,\n",
       "         [ 65],\n",
       "         [ 63],\n",
       "         [ 65]],\n",
       " \n",
       "        [[ 76],\n",
       "         [ 57],\n",
       "         [ 51],\n",
       "         ...,\n",
       "         [ 57],\n",
       "         [ 56],\n",
       "         [ 68]],\n",
       " \n",
       "        [[ 49],\n",
       "         [ 71],\n",
       "         [ 32],\n",
       "         ...,\n",
       "         [ 57],\n",
       "         [ 62],\n",
       "         [ 29]],\n",
       " \n",
       "        ...,\n",
       " \n",
       "        [[ 74],\n",
       "         [ 66],\n",
       "         [106],\n",
       "         ...,\n",
       "         [209],\n",
       "         [ 56],\n",
       "         [ 56]],\n",
       " \n",
       "        [[ 44],\n",
       "         [ 51],\n",
       "         [128],\n",
       "         ...,\n",
       "         [176],\n",
       "         [ 54],\n",
       "         [ 46]],\n",
       " \n",
       "        [[ 23],\n",
       "         [ 44],\n",
       "         [ 44],\n",
       "         ...,\n",
       "         [ 56],\n",
       "         [ 68],\n",
       "         [ 45]]], dtype=uint8),\n",
       " -1.0,\n",
       " False,\n",
       " {})"
      ]
     },
     "execution_count": 7,
     "metadata": {},
     "output_type": "execute_result"
    }
   ],
   "source": [
    "#Hier kunnen we handmatig een actie invoeren en de resultaten bekijken\n",
    "env.step(2)"
   ]
  },
  {
   "cell_type": "markdown",
   "id": "e6fe0958",
   "metadata": {},
   "source": [
    "<div style=\"background-color:white; color:black; padding: 10px;\">\n",
    "    <strong>Visualisatie van een gameframe</strong>\n",
    "</div>\n",
    "\n",
    "De afbeelding hierboven is een voorbeeld van een gameframe zoals de agent die op dit moment ontvangt binnen een episode. Je kunt hier goed zien dat de game correct geladen is: het wapen van de speler is zichtbaar in het midden, en links zien we de vijand die geraakt moet worden.\n",
    "\n",
    "Dit soort visualisaties zijn handig om te controleren of de environment goed werkt en of de observaties die de agent binnenkrijgt logisch zijn. Als je hier bijvoorbeeld een zwart scherm of fout beeld zou zien, weet je dat er iets mis is met de state-afhandeling of het `.step()`-proces.\n",
    "\n",
    "Het beeld is automatisch **omgezet naar grijswaarden** en **verkleind naar 160×100 pixels**. Dat hebben we bewust gedaan om het **simpeler en efficiënter** te maken voor de reinforcement learning agent. Kleuren en hoge resolutie zijn niet nodig voor dit scenario — het gaat er vooral om dat de agent de posities van objecten herkent en leert hoe hij moet reageren.\n",
    "\n",
    "Deze versimpeling helpt bij het versnellen van het leerproces en het verminderen van het geheugenverbruik tijdens training.\n"
   ]
  },
  {
   "cell_type": "code",
   "execution_count": 8,
   "id": "1d99e0dd",
   "metadata": {},
   "outputs": [
    {
     "data": {
      "image/png": "[encoded data removed]",
      "text/plain": [
       "<Figure size 640x480 with 1 Axes>"
      ]
     },
     "metadata": {},
     "output_type": "display_data"
    }
   ],
   "source": [
    "plt.imshow(cv2.cvtColor(state, cv2.COLOR_BGR2RGB))\n",
    "\n",
    "env.close() #Sluit de environment"
   ]
  },
  {
   "cell_type": "markdown",
   "id": "ad0cdf2f",
   "metadata": {},
   "source": [
    "<a name='3.1'></a>\n",
    "<h3>&sect;3.1: Ontwikkelen Baseline Stategie</h3>"
   ]
  },
  {
   "cell_type": "markdown",
   "id": "0d52bc60",
   "metadata": {},
   "source": [
    "<div style=\"background-color:white; color:black; padding: 10px;\">\n",
    "    <strong>Baseline strategie \"Random\"</strong>\n",
    "</div>\n",
    "De baseline strategie die we hebben gekozen voor de basic.wad is random. Dit is gekozen omdat wij denken dat dit de meest stabiele "
   ]
  },
  {
   "cell_type": "code",
   "execution_count": 9,
   "id": "13fd26c6",
   "metadata": {},
   "outputs": [
    {
     "name": "stdout",
     "output_type": "stream",
     "text": [
      "Random baseline gestart...\n",
      "Episode 1: totale reward = 87.0\n",
      "Episode 2: totale reward = -370.0\n",
      "Episode 3: totale reward = 86.0\n",
      "Episode 4: totale reward = 95.0\n",
      "Episode 5: totale reward = -360.0\n",
      "Episode 6: totale reward = -360.0\n",
      "Episode 7: totale reward = -360.0\n",
      "Episode 8: totale reward = 76.0\n",
      "Episode 9: totale reward = 91.0\n",
      "Episode 10: totale reward = 85.0\n",
      "\n",
      "Gemiddelde reward over 10 episodes: -93.00\n"
     ]
    }
   ],
   "source": [
    "env = VizDoomEnvironment(render = True) #Start de environment\n",
    "random_baseline(env, 10) #Speel 10 episodes met random acties\n",
    "env.close() #Sluit de environment"
   ]
  },
  {
   "cell_type": "markdown",
   "id": "43d22106",
   "metadata": {},
   "source": [
    "<div style=\"background-color:white; color:black; padding: 10px;\">\n",
    "    <strong>Observaties</strong>\n",
    "</div>\n",
    "\n",
    "Tijdens het draaien van de random baseline met `render=True` valt op dat het ViZDoom-spel **wordt weergegeven in kleur en op volledige resolutie**. Dit kan verwarrend lijken, omdat we verwachten dat de agent met versimpelde beelden werkt.\n",
    "\n",
    "De verklaring hiervoor is dat het **ViZDoom-venster puur bedoeld is voor debugging en observatie door de gebruiker**. Wat we op het scherm zien, is het originele spelbeeld — compleet met kleuren, HUD en hoge resolutie.\n",
    "\n",
    "De agent zelf werkt echter met een volledig andere input. In onze `VizDoomEnvironment` hebben we een `grayscale()` functie gedefinieerd die het originele spelbeeld omzet naar:\n",
    "\n",
    "- **grijswaarden** (geen kleurinformatie)\n",
    "- **verkleind formaat** van 160×100 pixels\n",
    "- **enkel relevant visueel detail**\n",
    "\n",
    "Dit verwerkte beeld is wat de agent daadwerkelijk ontvangt als “state”, en dus ook gebruikt bij het nemen van beslissingen. Door deze versimpeling wordt het leerproces efficiënter: de agent hoeft zich niet bezig te houden met overbodige informatie zoals kleur of interface-elementen, maar kan zich focussen op belangrijke visuele kenmerken zoals de positie van vijanden of het richten van zijn wapen.\n",
    "\n",
    "hier beneden dan ook dus "
   ]
  },
  {
   "cell_type": "code",
   "execution_count": 10,
   "id": "b60811ee",
   "metadata": {},
   "outputs": [
    {
     "data": {
      "image/png": "[encoded data removed]",
      "text/plain": [
       "<Figure size 500x300 with 1 Axes>"
      ]
     },
     "metadata": {},
     "output_type": "display_data"
    },
    {
     "data": {
      "image/png": "[encoded data removed]",
      "text/plain": [
       "<Figure size 500x300 with 1 Axes>"
      ]
     },
     "metadata": {},
     "output_type": "display_data"
    }
   ],
   "source": [
    "# Speel een episode met random acties en verzamel frames\n",
    "env = VizDoomEnvironment(render=True)\n",
    "frames = collect_frames_with_actions(env, max_steps=30)\n",
    "env.close()\n",
    "\n",
    "# Toon de verzamelde frames met een actie één voor één\n",
    "show_shoot_frames(frames, target_action=2)"
   ]
  },
  {
   "cell_type": "markdown",
   "id": "bdb8925b",
   "metadata": {},
   "source": [
    "<a name='3.1'></a>\n",
    "<h3>&sect;3.2: Implementeren van een Algoritme</h3>"
   ]
  },
  {
   "cell_type": "markdown",
   "id": "ecc4f8f3",
   "metadata": {},
   "source": [
    "<div style=\"background-color:white; color:black; padding: 10px;\">\n",
    "    <strong>Wat is Q-learning?</strong>\n",
    "</div>\n",
    "\n",
    "Q-learning is een **value-based reinforcement learning algoritme** waarmee een agent leert welke acties hij het best kan nemen in bepaalde situaties om een zo hoog mogelijke beloning (reward) te behalen. De kern van Q-learning is het bijhouden van een zogeheten **Q-table**: een tabel waarin per situatie (state) en actie (action) wordt opgeslagen hoe “goed” die actie op dat moment is.\n",
    "\n",
    "Bij elke stap in een episode leert de agent door middel van **trial-and-error** of zijn actie nuttig was, en past hij zijn Q-waarden hierop aan. Na voldoende episodes leert de agent welke acties hem dichter bij zijn doel brengen (bijvoorbeeld het verslaan van een vijand in ViZDoom).\n",
    "\n",
    "---\n",
    "\n",
    "<div style=\"background-color:white; color:black; padding: 10px;\">\n",
    "    <strong>Hoe werkt Q-learning bij ViZDoom?</strong>\n",
    "</div>\n",
    "\n",
    "In tegenstelling tot de simpele, discrete omgevingen die we tijdens de les zagen (zoals FrozenLake), gebruikt ViZDoom **visuele input** als observatie (grijswaarden-afbeeldingen). Daardoor moeten we enkele slimme aanpassingen doen:\n",
    "\n",
    "- De **observaties** (beelden) worden via de `grayscale()` functie verkleind en versimpeld tot zwart-wit beelden van 160×100 pixels.\n",
    "- Omdat deze beelden niet eenvoudig te gebruiken zijn als sleutel in een Q-table, zetten we ze om naar een **hash**: een versimpelde representatie van het beeld (bijv. door pixels te flattenen).\n",
    "- We gebruiken een **`defaultdict`** in plaats van een vaste tabel, omdat we niet weten hoeveel unieke states er precies zijn.\n",
    "- De agent kiest een actie op basis van een **ε-greedy policy**: hij kiest soms willekeurig (exploratie) en soms de beste actie volgens zijn Q-table (exploitatie).\n",
    "- Na elke stap **update de agent zijn Q-waarde** volgens de Q-learning-formule, met behulp van de beloning en de verwachte toekomstige beloning.\n",
    "\n",
    "---\n",
    "\n",
    "###  Belangrijke parameters in Q-learning\n",
    "\n",
    "| Parameter       | Betekenis |\n",
    "|-----------------|-----------|\n",
    "| `alpha` (lr)    | Leer-snelheid — hoeveel past de agent zijn Q aan per stap |\n",
    "| `gamma`         | Discount factor — hoe belangrijk zijn toekomstige rewards |\n",
    "| `epsilon`       | Exploratiegraad — hoe vaak kiest de agent een willekeurige actie |\n",
    "| `epsilon_decay` | Hoe snel de exploratie afneemt over tijd |\n",
    "\n",
    "---"
   ]
  },
  {
   "cell_type": "code",
   "execution_count": 11,
   "id": "278a77e4",
   "metadata": {},
   "outputs": [],
   "source": [
    "# Acties voor basic.cfg met TURN_LEFT/RIGHT\n",
    "# Volgorde: [MOVE_LEFT, MOVE_RIGHT, TURN_LEFT, TURN_RIGHT, ATTACK]\n",
    "actions = [\n",
    "    [1, 0, 0, 0, 0, 0, 0],  # Naar links\n",
    "    [0, 1, 0, 0, 0, 0, 0],  # Naar rechts\n",
    "    [0, 0, 1, 0, 0, 0, 0],  # Kijk naar links\n",
    "    [0, 0, 0, 1, 0, 0, 0],  # Kijk naar rechts\n",
    "    [0, 0, 0, 0, 1, 0, 0],  # Alleen schieten\n",
    "    [0, 0, 0, 0, 0, 1, 0],  # Vooruit\n",
    "    [0, 0, 0, 0, 0, 0, 1],  # Achteruit\n",
    "]\n",
    "\n",
    "# Start de environment met aangepaste acties\n",
    "env = VizDoomEnvironment(\n",
    "    render=True,\n",
    "    scenario=\"basic.cfg\",\n",
    "    actions=None \n",
    ")\n",
    "\n",
    "# Train het Q-learning model\n",
    "# rewards = train_q_learning(\n",
    "#     env,\n",
    "#     episodes=10,\n",
    "#     learning_rate=0.004,\n",
    "#     gamma=0.96,\n",
    "#     epsilon=1.0,\n",
    "#     epsilon_decay=0.96,\n",
    "#     epsilon_min=0.65,\n",
    "#     frame_skip=4\n",
    "# )\n",
    "\n",
    "# Sluit de environment\n",
    "env.close()\n"
   ]
  },
  {
   "cell_type": "markdown",
   "id": "12ba2f72",
   "metadata": {},
   "source": [
    "<div style=\"background-color:white; color:black; padding: 10px;\">\n",
    "    <strong>Nieuwe uitbreiding van de agent</strong>\n",
    "</div>\n",
    "\n",
    "We hebben de agent uitgebreid met de mogelijkheid om een **flexibele set aan acties** te gebruiken. Dit betekent dat we nu zelf kunnen bepalen welke bewegingen beschikbaar zijn tijdens het trainen, zoals:\n",
    "\n",
    "- Richting draaien (TURN_LEFT, TURN_RIGHT)\n",
    "- Strafing (MOVE_LEFT, MOVE_RIGHT)\n",
    "- Schieten (ATTACK)\n",
    "- Vooruit/achteruit bewegen (MOVE_FORWARD, MOVE_BACKWARD)\n",
    "\n",
    "Dankzij deze uitbreiding krijgt de agent meer **bewegingsvrijheid en strategische variatie** tijdens het leerproces. Dit stelt ons in staat om gerichte experimenten te doen en vragen te onderzoeken als:\n",
    "\n",
    "- Leert de agent beter wanneer hij **kan richten** tijdens het schieten?\n",
    "- Is het effectiever om te **strafen** (links/rechts bewegen) dan te draaien?\n",
    "- Hoe beïnvloedt het toevoegen van **vooruitbeweging** het aantal succesvolle kills?\n",
    "\n",
    "Door deze acties afzonderlijk of in combinatie toe te voegen aan het trainingstraject, kunnen we **verschillende gedragsstrategieën vergelijken** en de prestaties van de agent nauwkeuriger analyseren. Dit vergroot de diepgang van onze experimenten en maakt\n"
   ]
  },
  {
   "cell_type": "markdown",
   "id": "335aa608",
   "metadata": {},
   "source": [
    "bijhouden van gedrag zodat we kunnen documenteren wat hij doet:\n",
    "\n",
    "- nadat hij 1 strategie ziet die goed werkt, dus de actie naar links lopen en schieten, denkt de agent dat dit optimaal is en blijft hij vasthangen\n",
    "- wanneer ik de epsilon_min verhoog > lijkt het  de linker muur minder aan te houden"
   ]
  },
  {
   "cell_type": "code",
   "execution_count": 12,
   "id": "16df81a9",
   "metadata": {},
   "outputs": [],
   "source": [
    "# plt.plot(rewards)\n",
    "# plt.xlabel(\"Episode\")\n",
    "# plt.ylabel(\"Totale reward\")\n",
    "# plt.title(\"Q-learning prestaties\")\n",
    "# plt.show()\n"
   ]
  },
  {
   "cell_type": "markdown",
   "id": "e052efe5",
   "metadata": {},
   "source": [
    "<a name='3.3'></a>\n",
    "<h3>&sect;3.3: Experimenteren met hyperparameters</h3>"
   ]
  },
  {
   "cell_type": "markdown",
   "id": "5ec0263e",
   "metadata": {},
   "source": [
    "<a name='3.4'></a>\n",
    "<h3>&sect;3.4: Training</h3>"
   ]
  },
  {
   "cell_type": "markdown",
   "id": "9ff67bd7",
   "metadata": {},
   "source": [
    "\n",
    "---\n",
    "<div style=\"background-color:LightBlue; text-align:center; vertical-align:middle; padding:50px 0; margin-top:5px; margin-bottom:5px\">\n",
    "    <h2 id=\"eda-title\" style=\"color:black; font-family: Verdana, sans-serif; font-size: 25px;\"><strong> H4: Deep Q-Learning </strong></h2>\n",
    "</div>"
   ]
  },
  {
   "cell_type": "code",
   "execution_count": 13,
   "id": "a5d75d31",
   "metadata": {},
   "outputs": [],
   "source": [
    "state_size = [84,84,4]\n",
    "learning_rate = 0.0002\n",
    "batch_size = 64\n",
    "total_episodes = 20\n",
    "max_steps = 1000\n",
    "gamma = 0.95\n",
    "explore_start = 1.0\n",
    "explore_stop = 0.01\n",
    "decay_rate = 0.0001\n",
    "pretrain_length = batch_size\n",
    "memory_size = 1000000\n",
    "training = True\n",
    "episode_render = True"
   ]
  },
  {
   "cell_type": "code",
   "execution_count": 14,
   "id": "a5d2cadb",
   "metadata": {},
   "outputs": [],
   "source": [
    "from environment import VizDoomEnvironment\n",
    "\n",
    "env = VizDoomEnvironment(render=True, scenario=\"deadly_corridor.cfg\", use_grayscale=True)"
   ]
  },
  {
   "cell_type": "code",
   "execution_count": 15,
   "id": "a24a946e",
   "metadata": {},
   "outputs": [],
   "source": [
    "from deep_q_model import DQNetwork\n",
    "\n",
    "state_size = [84, 84, 4]  # Input shape (stacked frames)\n",
    "action_size = env.num_actions  # Number of possible actions\n",
    "learning_rate = 0.0002\n",
    "\n",
    "dq_network = DQNetwork(state_size, action_size, learning_rate)"
   ]
  },
  {
   "cell_type": "code",
   "execution_count": 16,
   "id": "b69218aa",
   "metadata": {},
   "outputs": [],
   "source": [
    "from deep_q_model import Memory\n",
    "\n",
    "memory_size = 1000000\n",
    "memory = Memory(max_size=memory_size)"
   ]
  },
  {
   "cell_type": "code",
   "execution_count": 17,
   "id": "a5ec7ea9",
   "metadata": {},
   "outputs": [
    {
     "name": "stdout",
     "output_type": "stream",
     "text": [
      "Stacked state shape: (84, 84, 4)\n"
     ]
    }
   ],
   "source": [
    "from collections import deque\n",
    "from utils import stack_frames\n",
    "\n",
    "stack_size = 4\n",
    "stacked_frames = deque([np.zeros((84, 84), dtype=np.int32) for _ in range(stack_size)], maxlen=4)\n",
    "\n",
    "state = env.reset()\n",
    "state, stacked_frames = stack_frames(stacked_frames, state, is_new_episode=True)\n",
    "print(\"Stacked state shape:\", state.shape)  # Should print (84, 84, 4)"
   ]
  },
  {
   "cell_type": "code",
   "execution_count": 18,
   "id": "012b4c90",
   "metadata": {},
   "outputs": [],
   "source": [
    "import random\n",
    "\n",
    "pretrain_length = 64  # Batch size\n",
    "for _ in range(pretrain_length):\n",
    "    action = random.randint(0, action_size - 1)\n",
    "    next_state, reward, done, _ = env.step(action)\n",
    "    next_state, stacked_frames = stack_frames(stacked_frames, next_state, is_new_episode=False)\n",
    "    \n",
    "    memory.add((state, action, reward, next_state, done))\n",
    "    state = next_state if not done else env.reset()"
   ]
  },
  {
   "cell_type": "code",
   "execution_count": 19,
   "id": "590fdb4a",
   "metadata": {},
   "outputs": [
    {
     "name": "stdout",
     "output_type": "stream",
     "text": [
      "Episode: 0, Total Reward: -113.14436340332031, Exploration Probability: 1.0\n",
      "Episode: 1, Total Reward: -111.77543640136719, Exploration Probability: 0.999901004949835\n",
      "Episode: 2, Total Reward: -115.97532653808594, Exploration Probability: 0.9998020197986801\n",
      "Episode: 3, Total Reward: -85.14602661132812, Exploration Probability: 0.9997030445455454\n",
      "Episode: 4, Total Reward: -65.418212890625, Exploration Probability: 0.999604079189441\n",
      "Episode: 5, Total Reward: -95.00901794433594, Exploration Probability: 0.9995051237293776\n",
      "Episode: 6, Total Reward: -39.371826171875, Exploration Probability: 0.9994061781643654\n",
      "Episode: 7, Total Reward: -102.27827453613281, Exploration Probability: 0.9993072424934148\n",
      "Episode: 8, Total Reward: -100.35725402832031, Exploration Probability: 0.9992083167155369\n",
      "Episode: 9, Total Reward: -115.15533447265625, Exploration Probability: 0.9991094008297421\n",
      "Episode: 10, Total Reward: -114.51820373535156, Exploration Probability: 0.9990104948350412\n",
      "Episode: 11, Total Reward: -70.71942138671875, Exploration Probability: 0.9989115987304453\n",
      "Episode: 12, Total Reward: -76.1165771484375, Exploration Probability: 0.9988127125149655\n",
      "Episode: 13, Total Reward: -111.9541015625, Exploration Probability: 0.9987138361876128\n",
      "Episode: 14, Total Reward: -86.13209533691406, Exploration Probability: 0.9986149697473984\n",
      "Episode: 15, Total Reward: -97.728271484375, Exploration Probability: 0.9985161131933338\n",
      "Episode: 16, Total Reward: -99.2857666015625, Exploration Probability: 0.9984172665244303\n",
      "Episode: 17, Total Reward: -112.60005187988281, Exploration Probability: 0.9983184297396994\n",
      "Episode: 18, Total Reward: -84.58233642578125, Exploration Probability: 0.9982196028381529\n",
      "Episode: 19, Total Reward: -111.15615844726562, Exploration Probability: 0.9981207858188024\n"
     ]
    },
    {
     "name": "stderr",
     "output_type": "stream",
     "text": [
      "WARNING:absl:Found untraced functions such as _jit_compiled_convolution_op, _jit_compiled_convolution_op, _jit_compiled_convolution_op while saving (showing 3 of 3). These functions will not be directly callable after loading.\n"
     ]
    },
    {
     "name": "stdout",
     "output_type": "stream",
     "text": [
      "INFO:tensorflow:Assets written to: dq_network_model\\assets\n"
     ]
    },
    {
     "name": "stderr",
     "output_type": "stream",
     "text": [
      "INFO:tensorflow:Assets written to: dq_network_model\\assets\n"
     ]
    },
    {
     "name": "stdout",
     "output_type": "stream",
     "text": [
      "Model saved to dq_network_model\n"
     ]
    }
   ],
   "source": [
    "import tensorflow as tf\n",
    "from utils import preprocess_frame\n",
    "\n",
    "\n",
    "optimizer = tf.keras.optimizers.Adam(learning_rate=learning_rate)\n",
    "\n",
    "if training is True:\n",
    "    for episode in range(total_episodes):\n",
    "        state = env.reset()\n",
    "        state, stacked_frames = stack_frames(stacked_frames, state, is_new_episode=True)\n",
    "        total_reward = 0\n",
    "\n",
    "        for step in range(max_steps):\n",
    "            # Predict action\n",
    "            exp_exp_tradeoff = np.random.rand()\n",
    "            exploration_probability = explore_stop + (explore_start - explore_stop) * np.exp(-decay_rate * episode)\n",
    "            \n",
    "            if exp_exp_tradeoff < exploration_probability:\n",
    "                action = random.randint(0, action_size - 1)\n",
    "            else:\n",
    "                Qs = dq_network(np.expand_dims(state, axis=0))\n",
    "                action = np.argmax(Qs.numpy())\n",
    "\n",
    "            # Take action\n",
    "            next_state, reward, done, _ = env.step(action)\n",
    "            next_state, stacked_frames = stack_frames(stacked_frames, next_state, is_new_episode=False)\n",
    "            \n",
    "            # Store experience in memory\n",
    "            memory.add((state, action, reward, next_state, done))\n",
    "            state = next_state\n",
    "            total_reward += reward\n",
    "\n",
    "            # Sample a batch from memory and train\n",
    "            if len(memory.buffer) > batch_size:\n",
    "                batch = memory.sample(batch_size)\n",
    "                states, actions, rewards, next_states, dones = map(np.array, zip(*batch))\n",
    "                \n",
    "                target_Qs = []\n",
    "                next_Qs = dq_network(next_states)\n",
    "                for i in range(batch_size):\n",
    "                    if dones[i]:\n",
    "                        target_Qs.append(rewards[i])\n",
    "                    else:\n",
    "                        target_Qs.append(rewards[i] + gamma * np.max(next_Qs[i]))\n",
    "                \n",
    "                with tf.GradientTape() as tape:\n",
    "                    Qs = dq_network(states)\n",
    "                    one_hot_actions = tf.keras.utils.to_categorical(actions, action_size)\n",
    "                    Q_values = tf.reduce_sum(Qs * one_hot_actions, axis=1)\n",
    "                    loss = tf.reduce_mean(tf.square(target_Qs - Q_values))\n",
    "                \n",
    "                grads = tape.gradient(loss, dq_network.trainable_variables)\n",
    "                optimizer.apply_gradients(zip(grads, dq_network.trainable_variables))\n",
    "            \n",
    "            if done:\n",
    "                break\n",
    "\n",
    "        print(f\"Episode: {episode}, Total Reward: {total_reward}, Exploration Probability: {exploration_probability}\")\n",
    "\n",
    "# Save the trained model\n",
    "model_save_path = \"dq_network_model\"\n",
    "dq_network.save(model_save_path)\n",
    "print(f\"Model saved to {model_save_path}\")"
   ]
  },
  {
   "cell_type": "code",
   "execution_count": 21,
   "id": "325fa773",
   "metadata": {},
   "outputs": [
    {
     "name": "stdout",
     "output_type": "stream",
     "text": [
      "Total Reward: -115.99569702148438\n"
     ]
    }
   ],
   "source": [
    "state = env.reset()\n",
    "state, stacked_frames = stack_frames(stacked_frames, state, is_new_episode=True)\n",
    "done = False\n",
    "total_reward = 0\n",
    "\n",
    "while not done:\n",
    "    Qs = dq_network(np.expand_dims(state, axis=0))\n",
    "    action = np.argmax(Qs.numpy())\n",
    "    next_state, reward, done, _ = env.step(action)\n",
    "    next_state, stacked_frames = stack_frames(stacked_frames, next_state, is_new_episode=False)\n",
    "    state = next_state\n",
    "    total_reward += reward\n",
    "\n",
    "print(f\"Total Reward: {total_reward}\")\n",
    "env.close()  "
   ]
  },
  {
   "cell_type": "markdown",
   "id": "6df3078c",
   "metadata": {},
   "source": [
    "\n",
    "---\n",
    "<div style=\"background-color:LightBlue; text-align:center; vertical-align:middle; padding:50px 0; margin-top:5px; margin-bottom:5px\">\n",
    "    <h2 id=\"eda-title\" style=\"color:black; font-family: Verdana, sans-serif; font-size: 25px;\"><strong> H5: Valideer en Vergelijk </strong></h2>\n",
    "</div>"
   ]
  },
  {
   "cell_type": "markdown",
   "id": "ddcdf2f7",
   "metadata": {},
   "source": [
    "<a name='4.1'></a>\n",
    "<h3>&sect;4.1 Vergelijken met minimaal één baseline</h3>"
   ]
  },
  {
   "cell_type": "markdown",
   "id": "02ffabfe",
   "metadata": {},
   "source": [
    "<a name='4.2'></a>\n",
    "<h3>&sect;4.2: Analiseren en Visualiseren van Resultaten </h3>"
   ]
  },
  {
   "cell_type": "markdown",
   "id": "13804ddc",
   "metadata": {},
   "source": [
    "\n",
    "---\n",
    "<div style=\"background-color:LightBlue; text-align:center; vertical-align:middle; padding:50px 0; margin-top:5px; margin-bottom:5px\">\n",
    "    <h2 id=\"eda-title\" style=\"color:black; font-family: Verdana, sans-serif; font-size: 25px;\"><strong> H6: Beschrijf je Werk (Rapporteren) </strong></h2>\n",
    "</div>"
   ]
  },
  {
   "cell_type": "markdown",
   "id": "3f650862",
   "metadata": {},
   "source": [
    "<a name='5.1'></a>\n",
    "<h3>&sect;5.1: Probleemstelling</h3>"
   ]
  },
  {
   "cell_type": "markdown",
   "id": "138c1f76",
   "metadata": {},
   "source": [
    "<a name='5.2'></a>\n",
    "<h3>&sect;5.2: Methodologie</h3>"
   ]
  },
  {
   "cell_type": "markdown",
   "id": "a3a39761",
   "metadata": {},
   "source": [
    "<a name='5.3'></a>\n",
    "<h3>&sect;5.3: Resultaten</h3>"
   ]
  },
  {
   "cell_type": "markdown",
   "id": "ce017729",
   "metadata": {},
   "source": [
    "<a name='5.4'></a>\n",
    "<h3>&sect;5.4: Reflectie</h3>"
   ]
  },
  {
   "cell_type": "markdown",
   "id": "d8c4f2b9",
   "metadata": {},
   "source": [
    "\n",
    "---\n",
    "<div style=\"background-color:LightBlue; text-align:center; vertical-align:middle; padding:50px 0; margin-top:5px; margin-bottom:5px\">\n",
    "    <h2 id=\"eda-title\" style=\"color:black; font-family: Verdana, sans-serif; font-size: 25px;\"><strong> H7: Literatuurlijst </strong></h2>\n",
    "</div>"
   ]
  },
  {
   "cell_type": "markdown",
   "id": "6c120a0e",
   "metadata": {},
   "source": [
    "\n",
    "---\n",
    "<div style=\"background-color:LightBlue; text-align:center; vertical-align:middle; padding:50px 0; margin-top:5px; margin-bottom:5px\">\n",
    "    <h2 id=\"eda-title\" style=\"color:black; font-family: Verdana, sans-serif; font-size: 25px;\"><strong> H8: Beoordelingscriteria </strong></h2>\n",
    "</div>"
   ]
  },
  {
   "cell_type": "markdown",
   "id": "b43a4caf",
   "metadata": {},
   "source": [
    "| **Criteria**                | **Level 4 (5p)**                                                                                                                                                       | **Level 3 (3p)**                                                                                                                                                        | **Level 2 (2p)**                                                                                                                                                       | **Level 1 (0p)**                                                                                                      |\n",
    "|----------------------------|------------------------------------------------------------------------------------------------------------------------------------------------------------------------|-------------------------------------------------------------------------------------------------------------------------------------------------------------------------|------------------------------------------------------------------------------------------------------------------------------------------------------------------------|-----------------------------------------------------------------------------------------------------------------------|\n",
    "| **Use-case kiezen**        | De gekozen use-case is creatief, de toepassing is realistisch met duidelijke meerwaarde van RL. Overtuigende motivatie voor RL wordt gegeven.                          | De use-case is creatief en geschikt voor RL en het probleem is goed gedefinieerd, maar de argumentatie is beperkt of vergelijkt de RL benadering niet met andere benaderingen. | De use-case is praktisch maar weinig innovatief, of er wordt beperkte analyse van de meerwaarde van RL.                          | Triviale of irrelevante use-case, die niet geschikt is voor RL. Weinig of geen argumentatie gegeven.                 |\n",
    "| **Begrip van RL**          | Er wordt een uitgebreide uitleg gegeven van het gekozen RL-algoritme.                                                                                                 | Er is sprake van een basiskennis van het RL-algoritme, maar de uitleg is beperkt of niet gedetailleerd genoeg.                                                         | Oppervlakkige uitleg (bv. de agent leert een hogere reward te krijgen) zonder verdere uitwerking. Kleine fouten in de uitleg.    | Volledig verkeerde, onduidelijke of ontbrekende uitleg.                                                              |\n",
    "| **Implementatie**          | De Python-implementatie werkt volledig zoals verwacht. De agent leert op een slimme en efficiënte manier door de omgeving te navigeren. De simulatie is 100% reproduceerbaar en toont elke keer de verwachte resultaten. | De Python-implementatie werkt voor het grootste gedeelte van de simulatie, maar faalt in bepaalde scenario's of de agent vertoont af en toe onverwacht gedrag, of de simulatie is niet 100% reproduceerbaar. | De Python-implementatie is rommelig en presteert niet zoals verwacht. De agent faalt vaak of vertoont voor het grootste deel onverwacht gedrag, of de simulatie is bijna nooit reproduceerbaar. | De Python-implementatie werkt nauwelijks of helemaal niet.                                                           |\n",
    "| **Validatie en vergelijking** | De simulatie wordt getest met realistische scenario's en de prestaties worden grondig geanalyseerd. De resultaten van deze analyse worden duidelijk gevisualiseerd. | Er zijn een behoorlijk aantal tests uitgevoerd, maar de testcases zouden uitgebreider kunnen zijn en de analyse van de resultaten zou diepgaander kunnen zijn.           | Er is een zeer beperkt aantal testen uitgevoerd of de resultaten zijn niet op een bevredigend niveau geanalyseerd en gevisualiseerd. | Er is nauwelijks tot geen testing gedaan.                                                                           |\n",
    "| **Rapporteren**            | Het rapport is helder en goed gestructureerd. De methodologie is goed uitgelegd.                                                                                      | Het rapport is bevredigend, maar het is niet goed gestructureerd en uitgelegd.                                                                                          | Het rapport is rommelig en er ontbreken belangrijke details.                                                                      | Het rapport is onbevredigend, onjuist of afwezig.                                                                    |\n"
   ]
  },
  {
   "cell_type": "markdown",
   "id": "5ff75b80",
   "metadata": {},
   "source": []
  }
 ],
 "metadata": {
  "kernelspec": {
   "display_name": "tf",
   "language": "python",
   "name": "python3"
  },
  "language_info": {
   "codemirror_mode": {
    "name": "ipython",
    "version": 3
   },
   "file_extension": ".py",
   "mimetype": "text/x-python",
   "name": "python",
   "nbconvert_exporter": "python",
   "pygments_lexer": "ipython3",
   "version": "3.9.19"
  }
 },
 "nbformat": 4,
 "nbformat_minor": 5
}
